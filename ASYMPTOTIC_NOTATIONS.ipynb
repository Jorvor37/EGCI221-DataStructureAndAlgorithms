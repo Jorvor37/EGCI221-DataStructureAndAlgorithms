{
  "nbformat": 4,
  "nbformat_minor": 0,
  "metadata": {
    "colab": {
      "provenance": []
    },
    "kernelspec": {
      "name": "python3",
      "display_name": "Python 3"
    },
    "language_info": {
      "name": "python"
    }
  },
  "cells": [
    {
      "cell_type": "code",
      "execution_count": null,
      "metadata": {
        "id": "3B-qZRbF2bHX"
      },
      "outputs": [],
      "source": [
        "import numpy as np\n",
        "import matplotlib.pyplot as plt"
      ]
    },
    {
      "cell_type": "markdown",
      "source": [
        "$F_1(T) = T^2 + 3T + 1$\n",
        "\n",
        "$F_2(T) = 10T^2 + 300T + 100$\n",
        "\n",
        "$F_3(T) = T^3$\n",
        "\n",
        "$F_3(T) = 2^T$"
      ],
      "metadata": {
        "id": "6L_RIm9E2yRI"
      }
    },
    {
      "cell_type": "code",
      "source": [
        "T = np.linspace(0, 1000, 3000)\n",
        "F1 = np.power(T,2) + 3 * T + 1\n",
        "F2 = 10 * np.power(T,2) + 300 * T + 100\n",
        "F3 = np.power(T,3)\n",
        "F4 = np.power(2,T)\n",
        "\n",
        "plt.plot(T, F1, color = 'b')\n",
        "plt.plot(T, F2, color = 'r')\n",
        "#plt.plot(T, F3, color = 'g')\n",
        "#plt.plot(T, F4, color = 'y')\n",
        "plt.show()"
      ],
      "metadata": {
        "colab": {
          "base_uri": "https://localhost:8080/",
          "height": 445
        },
        "id": "YiYBPYFc2lqP",
        "outputId": "1ef3e351-9af4-4bbf-ae5b-825fb6c45f88"
      },
      "execution_count": null,
      "outputs": [
        {
          "output_type": "display_data",
          "data": {
            "text/plain": [
              "<Figure size 640x480 with 1 Axes>"
            ],
            "image/png": "[encoded data removed]"
          },
          "metadata": {}
        }
      ]
    },
    {
      "cell_type": "markdown",
      "source": [
        "Small Oh $f(n) = O(g(n))$ Find constant $c$ and $n_0$ such that $0\\leq f(n)< cg(n)$, where $n\\geq n_0$\n",
        "\n",
        "Big Oh $f(n) = O(g(n))$ Find constant $c$ and $n_0$ such that $0\\leq f(n)\\leq cg(n)$, where $n\\geq n_0$\n",
        "\n",
        "Big Theta\n",
        "\n",
        "Big Omega $f(n) = Ω(g(n))$ Find constant $c$ and $n_0$ such that $0\\leq cg(n) \\leq f(n)$, where $n\\geq n_0$\n",
        "\n",
        "Small Omega $f(n) = Ω(g(n))$ Find constant $c$ and $n_0$ such that $0\\leq cg(n) < f(n)$, where $n\\geq n_0$"
      ],
      "metadata": {
        "id": "vAH3hE_3DdPr"
      }
    },
    {
      "cell_type": "markdown",
      "source": [
        "To show that $n^2 + 2n + 1 \\in O(n)^2$\n",
        "\n",
        "by use $f(n) \\leq cg(n)$ for all $n \\geq n_0$\n",
        "\n",
        "$n^2 + 2n + 1 \\leq n^2 + 2n^2 + n^2 =4n^2$, where $n \\geq 1$ $(c=4, n_0=1)$\n",
        "\n",
        "$n^2 + 2n + 1 \\in O(n^2)$"
      ],
      "metadata": {
        "id": "bl1OK4706E6v"
      }
    },
    {
      "cell_type": "markdown",
      "source": [
        "To show that $n^2 + 2n + 1 \\in Ω(n)^2$\n",
        "\n",
        "by use $f(n) \\geq cg(n)$ for all $n \\geq n_0$\n",
        "\n",
        "$0 \\leq n^2 \\leq n^2 + 2n + 1$, where $n \\geq 0$\n",
        "\n",
        "$n^2 + 2n + 1 \\in Ω(n^2)$"
      ],
      "metadata": {
        "id": "PnoOcgAc92Vn"
      }
    },
    {
      "cell_type": "markdown",
      "source": [
        "Show that $c_1n^2 + c_2n + c_3  \\in  O(n^2).$ where $c_1, c_2, and c_3$ are real numbers\n",
        "\n",
        "$c_1n^2 + c_2n + c_3  \\leq c_4n^2 + c_4n + c_4$. where $c_4$ = max\\{$c_1,c_2,c_3$\\} and $n\\geq1$\n",
        "\n",
        "any quadratic equation can wrote as it's in big O."
      ],
      "metadata": {
        "id": "J7wZLULq-hzT"
      }
    },
    {
      "cell_type": "markdown",
      "source": [
        "The 2 properties that will make it's easier\n",
        "\n",
        "cut out the constant as if we go large it's not have much impact\n",
        "\n",
        "Show that $kf(n) = O(f(n))$, where $k$ is a constant.\n",
        "\n",
        "$kf(n) \\leq c(f(n))$, where $c = k$ and $n\\geq0$."
      ],
      "metadata": {
        "id": "KH0ESGF0APnE"
      }
    },
    {
      "cell_type": "markdown",
      "source": [
        "!have some compicate fuction that they add together\n",
        "\n",
        "Show that $f(n) + g(n) = O(max\\{f(n),g(n)\\})$\n",
        "\n",
        "$f(n) + g(n) \\leq 2*max\\{f(n),g(n)\\}$, where $n\\geq0$"
      ],
      "metadata": {
        "id": "w_oUq3ITCYzE"
      }
    },
    {
      "cell_type": "markdown",
      "source": [
        "Proof $c_1n^2 + c_2n + c_3 = O(n^2)$"
      ],
      "metadata": {
        "id": "3CSZf3MYCzY0"
      }
    },
    {
      "cell_type": "markdown",
      "source": [
        "$\\sum_{i=1}^n{i} = 1+2+3+4+...+n \\leq n+n+n+n+...+n \\leq n^2$, where $n\\geq1$, Thus $\\sum_{i=1}^n{i} = O(n^2)$\n",
        "\n",
        "$\\sum_{i=1}^n{i} = \\sum_{i=1}^{n/2}{i} + \\sum_{i=(n/2)+1}^n{i}$ $\\geq \\sum_{i=1}^{n/2}{0} + \\sum_{i=(n/2)+1}^n{i}$ $\\geq \\sum_{i=(n/2)+1}^n{n/2}$ $=(n/2)^2$ = $(1/4)n^2$, where $n\\geq1$"
      ],
      "metadata": {
        "id": "G5wTUa9XFjp3"
      }
    },
    {
      "cell_type": "markdown",
      "source": [
        "Show that $H_n = \\sum_{i=1}^n{1/i} = O(log n)$\n",
        "\n",
        "$H_n = 1/1 + 1/2+ 1/3 + …+1/n = (1/(1+0))+(1/(2+0)+1/(2+1))+(1/(4+0)+1/(4+1)+1/(4+2)+1/(4+3))+…$ $\\leq \\sum_{i=0}^{lg n}\\sum_{j=0}^{2-1}{1/(2^i+j)}$"
      ],
      "metadata": {
        "id": "5AMF8J_1IXw8"
      }
    }
  ]
}