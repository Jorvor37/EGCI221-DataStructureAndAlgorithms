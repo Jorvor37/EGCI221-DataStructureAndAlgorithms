{
 "cells": [
  {
   "cell_type": "markdown",
   "id": "9627fc54",
   "metadata": {},
   "source": [
    "# Divide and Conqure (Merge Sort)\n",
    "\n"
   ]
  },
  {
   "cell_type": "markdown",
   "id": "62a7b849",
   "metadata": {},
   "source": [
    "## Master Theory \n",
    "\n",
    "Theorem 1\n",
    "\n",
    "$T(n) = aT(n/b) + f(n)$\n",
    "\n",
    "$a$ is number of recuesion call\n",
    "\n",
    "$b$ is constant factor that breakdown the size of problem\n",
    "\n",
    "$f(n)$ is combine them (must increase positive function)\n",
    "\n",
    "3 conditions"
   ]
  },
  {
   "cell_type": "markdown",
   "id": "77e74896",
   "metadata": {},
   "source": []
  },
  {
   "cell_type": "markdown",
   "id": "6897bbb7",
   "metadata": {},
   "source": [
    "Example 1\n",
    "\n",
    "$T(n) 2T(n/2) + n$ in this case we have \n",
    "\n",
    "$a$ = 2, $b$ = 2, $f(n) = n$\n",
    "\n",
    "1. $f(n) = n^1 = O(n^{log_2 2-E})$ = $O(n^{0.999999})$ Invalid\n",
    "\n",
    "2. $f(n) = n^1 = O(n^{log_2 2})$ = $O(n^{1})$ Valid\n",
    "\n",
    "\n",
    "Example 2\n",
    "\n",
    "$T(n) 4T(n/4) + n^2$ in this case we have \n",
    "\n",
    "$a$ = 4, $b$ = 4, $f(n) = n^2$\n",
    "\n",
    "1. $f(n) = n^2 = O(n^{log_4 4-E})$ = $O(n^{0.999999})$ Invalid\n",
    "\n",
    "2. $f(n) = n^2 = \\theta(n^{log_4 4})$ = $\\theta(n^{1})$ Invalid\n",
    "\n",
    "3. $f(n) = n^2 = \\omega(n^{log_4 4+E})$ = $\\omega(n^{1.00000000001})$ Valid"
   ]
  },
  {
   "cell_type": "markdown",
   "id": "67581b3c",
   "metadata": {},
   "source": []
  }
 ],
 "metadata": {
  "language_info": {
   "name": "python"
  }
 },
 "nbformat": 4,
 "nbformat_minor": 5
}
