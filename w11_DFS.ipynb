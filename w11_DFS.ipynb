{
 "cells": [
  {
   "cell_type": "markdown",
   "id": "467adb1c",
   "metadata": {},
   "source": [
    "# Depth First Search"
   ]
  },
  {
   "cell_type": "code",
   "execution_count": 1,
   "id": "650ae652",
   "metadata": {},
   "outputs": [],
   "source": [
    "class Vertex:\n",
    "    def __init__(self, name):\n",
    "        self.name = name\n",
    "        self.flag = 'unvisited'\n",
    "        self.parent = None\n",
    "        self.d = None  # Discovery time\n",
    "        self.f = None  # Finish time\n",
    "\n",
    "    def __repr__(self):\n",
    "        return f\"{self.name}\"\n",
    "\n",
    "\n",
    "time = 0  # Global time variable\n",
    "\n",
    "def DFS(G):\n",
    "    global time\n",
    "    time = 0\n",
    "    # Initialize all vertices\n",
    "    for u in G:\n",
    "        u.flag = 'unvisited'\n",
    "        u.parent = None\n",
    "\n",
    "    for u in G:\n",
    "        if u.flag == 'unvisited':\n",
    "            DFS_Visit(G, u)\n",
    "\n",
    "def DFS_Visit(G, u):\n",
    "    global time\n",
    "    time += 1\n",
    "    u.d = time\n",
    "    u.flag = 'visited'\n",
    "    \n",
    "    for v in G[u]:  # G[u] is the adjacency list of u\n",
    "        if v.flag == 'unvisited':\n",
    "            v.parent = u\n",
    "            DFS_Visit(G, v)\n",
    "    \n",
    "    time += 1\n",
    "    u.f = time\n"
   ]
  },
  {
   "cell_type": "markdown",
   "id": "586ecee9",
   "metadata": {},
   "source": [
    "# Strongly Connected Component Algorithm"
   ]
  },
  {
   "cell_type": "code",
   "execution_count": null,
   "id": "0c149f48",
   "metadata": {},
   "outputs": [],
   "source": [
    "# Get G Transpose\n",
    "def Topological_Sort(G):\n",
    "    # Run DFS to compute finishing times\n",
    "    DFS(G)\n",
    "\n",
    "    # Sort vertices by decreasing finishing time\n",
    "    sorted_vertices = sorted(G.keys(), key=lambda v: v.f, reverse=True)\n",
    "\n",
    "    return sorted_vertices"
   ]
  }
 ],
 "metadata": {
  "kernelspec": {
   "display_name": "Python 3 (ipykernel)",
   "language": "python",
   "name": "python3"
  }
 },
 "nbformat": 4,
 "nbformat_minor": 5
}
