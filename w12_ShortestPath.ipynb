{
 "cells": [
  {
   "cell_type": "markdown",
   "id": "0361ea4f",
   "metadata": {},
   "source": [
    "# Shortest Path Algorithms\n",
    "\n",
    "Thinking of Mininal Spanning Tree but on the directed graph is called\n",
    "\n",
    "    Shortest Path Algorithm have these property:\n",
    "    - Directed Graph\n",
    "    - Weighted Graph\n",
    "\n",
    "Single Source → All (Dijkstra, Bellman-Ford)\n",
    "\n",
    "All-Pairs → All (Floyd-Warshall)"
   ]
  },
  {
   "cell_type": "markdown",
   "id": "9e306334",
   "metadata": {},
   "source": [
    "## Relaxation\n",
    "\n",
    "Fundmental idea behind all shortest-path algorithms.\n",
    "\n",
    "    Relaxation is the process of updating the shortest known distance to a vertex if a better (shorter) path is found via another vertex."
   ]
  },
  {
   "cell_type": "raw",
   "id": "c3e5400a",
   "metadata": {
    "vscode": {
     "languageId": "raw"
    }
   },
   "source": [
    "procedure Initialize-Single-Source(G, s)\n",
    "    for each vertex v in G:\n",
    "        v.d = ∞         ← set all distances to infinity\n",
    "        v.parent = NULL ← no known parent yet\n",
    "    end for \n",
    "    s.d = 0             ← distance to source is 0\n",
    "end procedure\n",
    "\n",
    "# This checks:\n",
    "# \"Can we get to v through u with a shorter distance?\"\n",
    "# If so, update v’s distance and remember u as the parent.\n",
    "procedure Relax(u, v, w)\n",
    "    if v.d > u.d + w (u, v) then\n",
    "        v.d = u.d + w (u, v)\n",
    "        v.parent = u\n",
    "    end if\n",
    "end procedure"
   ]
  },
  {
   "cell_type": "raw",
   "id": "ddd7c1e9",
   "metadata": {
    "vscode": {
     "languageId": "raw"
    }
   },
   "source": [
    "# highly efficient method for finding shortest paths in a Directed Acyclic Graph (DAG).\n",
    "# When the graph is \"Directed Acyclic Graph\" it's takes O(V + E) time complexity, which faster than Dijkstra (O(E log V)) and Bellman-Ford (O(VE))\n",
    "\n",
    "procedure DAG-Shortest-Path(G, w, s)\n",
    "    Topological sort the vertices of G                              # This gives an ordering u₁, u₂, ..., uₙ such that if u → v, then u comes before v.\n",
    "    Initialize-Single-Source(G, s)\n",
    "    for each vertex u, taken in topologically sorted order do\n",
    "        for each vertex v ∈ G.Adj [u] do\n",
    "            Relax(u, v, w)\n",
    "        end for\n",
    "    end for\n",
    "end procedure"
   ]
  },
  {
   "cell_type": "markdown",
   "id": "703cebb3",
   "metadata": {},
   "source": [
    "## Dijkstra’s Algorithm (Greedy Algo)\n",
    "\n",
    "**Best for:** Positive edge weights only\n",
    "\n",
    "**Idea:** Repeatedly choose the nearest unvisited node.\n",
    "\n",
    "**Data Structure:** Min-Heap (Priority Queue)\n",
    "\n",
    "**Time Complexity:** O((V + E) log V)"
   ]
  },
  {
   "cell_type": "raw",
   "id": "b87e93bd",
   "metadata": {
    "vscode": {
     "languageId": "raw"
    }
   },
   "source": [
    "procedure Dijkstra(G, w, r)\n",
    "    Initialize-Single-Source(G, s)\n",
    "    S = φ\n",
    "    Q = G.V\n",
    "    while(Q notequal φ)\n",
    "        u =Extract-Min(Q)           # pop minimum distance node\n",
    "        S = S ∪ {u}\n",
    "        for(each v ∈ G.Adj [u])\n",
    "            Relax(u, v, w)\n",
    "        end for\n",
    "    end while\n",
    "end procedure"
   ]
  },
  {
   "cell_type": "markdown",
   "id": "1a19d843",
   "metadata": {},
   "source": [
    "## Bellman-Ford Algorithm\n",
    "\n",
    "**Best for:** Graphs with negative edge weights, detects negative cycles\n",
    "\n",
    "**Time Complexity:** O(V * E)"
   ]
  },
  {
   "cell_type": "markdown",
   "id": "78bddddc",
   "metadata": {},
   "source": [
    "procedure Belman-Ford(G, w, s)\n",
    "    Initialize-Single-Source(G, s)\n",
    "    for(i = 1 to |G.V | − 1)\n",
    "        for(each edge (u, v) ∈ G.E)\n",
    "            Relax(u, v, w)\n",
    "        end for\n",
    "    end for\n",
    "\n",
    "    for(each edge (u, v) ∈ G.E) -> Check for a negative-weight cycle.\n",
    "        if(v.d > u.d + w (u, v))\n",
    "            return False\n",
    "        else\n",
    "            return True\n",
    "    end for\n",
    "end procedure"
   ]
  },
  {
   "cell_type": "markdown",
   "id": "4d8fcd06",
   "metadata": {},
   "source": [
    "## Floyd-Warshall Algorithm\n",
    "\n",
    "**Best for:** All-pairs shortest path\n",
    "\n",
    "**Graph type:** Directed or Undirected\n",
    "\n",
    "**Handles:** Negative weights (no negative cycles)\n",
    "\n",
    "**Time Complexity:** O(V^3)\n",
    "\n",
    "**Idea:** Try every vertex k as an intermediate:"
   ]
  },
  {
   "cell_type": "raw",
   "id": "1e8c6c7a",
   "metadata": {
    "vscode": {
     "languageId": "raw"
    }
   },
   "source": [
    "procedure Floyd-Warshall(W)\n",
    "    n = W.rows\n",
    "    D = W\n",
    "    for(k = 1 to n)\n",
    "        for(i = 1 to n)\n",
    "            for(j = 1 to n)\n",
    "                di,j = min {di,j , dik + dkj}\n",
    "            end for\n",
    "        end for\n",
    "    end for\n",
    "    return D\n",
    "end procedure"
   ]
  }
 ],
 "metadata": {
  "kernelspec": {
   "display_name": "Python 3 (ipykernel)",
   "language": "python",
   "name": "python3"
  },
  "language_info": {
   "codemirror_mode": {
    "name": "ipython",
    "version": 3
   },
   "file_extension": ".py",
   "mimetype": "text/x-python",
   "name": "python",
   "nbconvert_exporter": "python",
   "pygments_lexer": "ipython3",
   "version": "3.12.1"
  }
 },
 "nbformat": 4,
 "nbformat_minor": 5
}
