{
 "cells": [
  {
   "cell_type": "markdown",
   "id": "e3001dab",
   "metadata": {},
   "source": [
    "# 5-6 Problem\n",
    "\n",
    "### Programming Paradigm 3 questions\n",
    "\n",
    "- Dynamic Programming   -> Have many pump, each pump have diffrent efficiency, each pump output diffrent output and have diffrent cost, hard part is recursion, draw recursion tree -> if need to go to all tree is recursion, if select one path is Greedy [HW]\n",
    "\n",
    "- Greedy Approach       -> Have many pump, each pump have diffrent efficiency, each pump output diffrent output and have diffrent cost, cost will = Highest cost * pump\n",
    "\n",
    "- Divide and Conquer    -> Stat like findMin findMedian, Straith foward, use bruce force approach, Tricks: use naive approach in both recursive call and combine, TC = bruceforce, Master Theory -> Theorem 1 -> $T(n) = aT(n/b) + f(n)$\n",
    "\n",
    "### Is the problem ask to search or optimise\n",
    "    - Search: 3-4 Algorithm to spot\n",
    "    - Optimise[BFS]: MST and Shortest Path\n",
    "\n",
    "1. Master Theorem       -> Easy\n",
    "\n",
    "2. Divide and Conquer binary search result (Minimize the maximum)\n",
    "\n",
    "3. Dyhnamic Programming\n",
    "\n",
    "4. Greedy\n",
    "\n",
    "5. Graphs [1 or 2] [HW]"
   ]
  },
  {
   "cell_type": "markdown",
   "id": "d02c5038",
   "metadata": {},
   "source": [
    "# 6.Algorithmic Paradigm - Divide and Conquer"
   ]
  },
  {
   "cell_type": "markdown",
   "id": "0dc75e4f",
   "metadata": {},
   "source": [
    "## Divide and Conquer contains 3 steps\n",
    "\n",
    "1. divide the bid problem into smaller solvable \"sub-problem\"\n",
    "\n",
    "2. conquer the subproblem using recursive method\n",
    "\n",
    "3. Combine the solution of the sub problems"
   ]
  },
  {
   "cell_type": "markdown",
   "id": "240189c5",
   "metadata": {},
   "source": [
    "## The Master Theroum\n",
    "\n",
    "cheat sheet for calculating the \"time complexity\" with the formula:\n",
    "\n",
    "$T(n)=aT(n/b)+f(n)$\n",
    "\n",
    "Where:\n",
    "\n",
    "$T(n)$: The total time it takes to solve a problem of size $n$.\n",
    "\n",
    "$a$: The number of subproblems that are created at each step of the recursion. $(a≥1)$\n",
    "\n",
    "$n/b$: The size of each subproblem. The original problem of size $n$ is divided into subproblems, each of size $n/b. (b>1)$\n",
    "\n",
    "$f(n)$: The time it takes to divide the problem into subproblems and combine their solutions (the \"non-recursive\" work)\n",
    "\n",
    "more $b$ and less $aT, n, f(n)$. is the better"
   ]
  },
  {
   "cell_type": "markdown",
   "id": "2139eaf9",
   "metadata": {},
   "source": []
  }
 ],
 "metadata": {
  "language_info": {
   "name": "python"
  }
 },
 "nbformat": 4,
 "nbformat_minor": 5
}
