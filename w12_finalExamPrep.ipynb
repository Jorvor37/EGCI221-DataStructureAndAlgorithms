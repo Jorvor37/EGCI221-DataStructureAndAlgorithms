{
 "cells": [
  {
   "cell_type": "markdown",
   "id": "d02c5038",
   "metadata": {},
   "source": [
    "# 6.Algorithmic Paradigm - Divide and Conquer"
   ]
  },
  {
   "cell_type": "markdown",
   "id": "0dc75e4f",
   "metadata": {},
   "source": [
    "## Divide and Conquer contains 3 steps\n",
    "\n",
    "1. divide the bid problem into smaller solvable \"sub-problem\"\n",
    "\n",
    "2. conquer the subproblem using recursive method\n",
    "\n",
    "3. Combine the solution of the sub problems"
   ]
  },
  {
   "cell_type": "markdown",
   "id": "240189c5",
   "metadata": {},
   "source": [
    "## The Master Theroum\n",
    "\n",
    "cheat sheet for calculating the \"time complexity\" with the formula:\n",
    "\n",
    "$T(n)=aT(n/b)+f(n)$\n",
    "\n",
    "Where:\n",
    "\n",
    "$T(n)$: The total time it takes to solve a problem of size $n$.\n",
    "\n",
    "$a$: The number of subproblems that are created at each step of the recursion. $(a≥1)$\n",
    "\n",
    "$n/b$: The size of each subproblem. The original problem of size $n$ is divided into subproblems, each of size $n/b. (b>1)$\n",
    "\n",
    "$f(n)$: The time it takes to divide the problem into subproblems and combine their solutions (the \"non-recursive\" work)\n",
    "\n",
    "more $b$ and less $aT, n, f(n)$. is the better"
   ]
  },
  {
   "cell_type": "markdown",
   "id": "2139eaf9",
   "metadata": {},
   "source": []
  }
 ],
 "metadata": {
  "language_info": {
   "name": "python"
  }
 },
 "nbformat": 4,
 "nbformat_minor": 5
}
