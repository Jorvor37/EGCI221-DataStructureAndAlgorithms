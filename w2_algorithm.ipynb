{
  "nbformat": 4,
  "nbformat_minor": 0,
  "metadata": {
    "colab": {
      "provenance": []
    },
    "kernelspec": {
      "name": "python3",
      "display_name": "Python 3"
    },
    "language_info": {
      "name": "python"
    }
  },
  "cells": [
    {
      "cell_type": "code",
      "execution_count": null,
      "metadata": {
        "id": "Dn1b7O4xOfYT"
      },
      "outputs": [],
      "source": [
        "# prompt: what is the purpose of Algorithm\n",
        "\n",
        "# Algorithms are sets of well-defined instructions or rules designed to solve a specific problem or perform a task.  Their purpose is to provide a systematic, step-by-step procedure that can be followed to achieve a desired outcome.  Here's a breakdown of their key purposes:\n",
        "\n",
        "# * **Problem Solving:**  Algorithms are fundamental to problem-solving in computer science and other fields. They provide a blueprint for how to approach a problem and break it down into manageable steps.\n",
        "\n",
        "# * **Automation:**  Algorithms enable automation by providing a set of instructions a computer or machine can follow without human intervention. This is crucial for repetitive tasks, complex calculations, and data processing.\n",
        "\n",
        "# * **Efficiency:**  A well-designed algorithm focuses on efficiency. It aims to solve a problem using the minimum amount of resources (time, memory, etc.) possible.  Different algorithms can solve the same problem, but some may be significantly more efficient than others.\n",
        "\n",
        "# * **Precision and Reliability:** Algorithms provide a precise and reliable way to execute tasks.  When followed correctly, they produce consistent and predictable results, minimizing errors.\n",
        "\n",
        "# * **Abstraction:**  Algorithms abstract away the low-level details of implementation.  You can describe the algorithm conceptually, then implement it in different programming languages or on different platforms.\n",
        "\n",
        "# * **Foundation for Data Structures:** Algorithms often work in conjunction with data structures to efficiently organize and access data. The choice of data structure significantly impacts an algorithm's performance.\n",
        "\n",
        "\n",
        "# In essence, algorithms are the core logic of computation, allowing us to automate tasks, solve problems efficiently, and build complex systems.\n",
        "\n"
      ]
    },
    {
      "cell_type": "code",
      "source": [
        "from re import L\n",
        "#Algorithm : just write the algorithm in exam, so no syntax error\n",
        "FindMin()\n",
        "{\n",
        "    A := input() #input an array A with the index start from 0- N-1\n",
        "    min := A[0]\n",
        "    for(i=0 to N-1)\n",
        "    {\n",
        "        if(A[i] < min)\n",
        "        {\n",
        "            min := A[i]\n",
        "        }\n",
        "    }\n",
        "    return min\n",
        "}\n",
        "\n",
        "FindMin2(A[1...N]) #take A1 to AN\n",
        "{\n",
        "    if(n==1):\n",
        "       return A[1]\n",
        "    else:\n",
        "      m=FindMin2(A[1...N-1])\n",
        "      if A[N] < m:\n",
        "         return A[N]\n",
        "      else:\n",
        "         return m\n",
        "}\n",
        "\n",
        "FindMin3(A[L...R])\n",
        "{\n",
        "    if(L==R):\n",
        "      return A[L]\n",
        "    else:\n",
        "      mid:=(L+R)/2\n",
        "      m1:=FindMin3(A[L...mid]) #Find minimum from left to mid\n",
        "      m2:=FindMin3(A[mid+1...R]) #Find minimum from mid+1 to right\n",
        "      if m1 < m2: #compare which is smaller then\n",
        "         return m1\n",
        "      else:\n",
        "         return m2\n",
        "}"
      ],
      "metadata": {
        "colab": {
          "base_uri": "https://localhost:8080/",
          "height": 110
        },
        "id": "UYCTdFrGOvCV",
        "outputId": "0f8869d1-e0ad-4985-f99e-29d8859cdecc"
      },
      "execution_count": null,
      "outputs": [
        {
          "output_type": "error",
          "ename": "SyntaxError",
          "evalue": "invalid syntax. Perhaps you forgot a comma? (<ipython-input-3-899c89d82709>, line 4)",
          "traceback": [
            "\u001b[0;36m  File \u001b[0;32m\"<ipython-input-3-899c89d82709>\"\u001b[0;36m, line \u001b[0;32m4\u001b[0m\n\u001b[0;31m    A := input() #input an array A with the index start from 0- N-1\u001b[0m\n\u001b[0m         ^\u001b[0m\n\u001b[0;31mSyntaxError\u001b[0m\u001b[0;31m:\u001b[0m invalid syntax. Perhaps you forgot a comma?\n"
          ]
        }
      ]
    },
    {
      "cell_type": "code",
      "source": [
        "#write an Algorithm to find the Majority\n",
        "[1,2,1,2,1,2,1,2,3,1,1] # the majority is 1\n",
        "\n",
        "#Group each member in an array, if the same put in same group, then sort find max number that array contain. Then use that max number compare from with N/2\n",
        "SortArray(A[0...N-1])\n",
        "{\n",
        "    for(i=0; i<N-1; i++)\n",
        "    {\n",
        "        for(j=0; j<N-1; j++)\n",
        "        {\n",
        "            if(A[j] > A[j+1]):\n",
        "              temp = A[j]\n",
        "              A[j] = A[j+1]\n",
        "              A[j+1] = temp\n",
        "        }\n",
        "    }\n",
        "}\n",
        "\n",
        "FindMajority(A[0...N-1])\n",
        "{\n",
        "    SortArray(A[0...N-1])\n",
        "    let count = 1\n",
        "    let majority = A[0]\n",
        "    for(i=1; i<N; i++)\n",
        "    {\n",
        "        if(A[i] == A[i-1]):\n",
        "          count += 1\n",
        "        else:\n",
        "          count = 1\n",
        "        if(count > N/2):\n",
        "          majority = A[i]\n",
        "    }\n",
        "    return majority\n",
        "}\n",
        "\n",
        "#AJ, Algorithm\n",
        "AjMajority(A[0...N-1])\n",
        "{\n",
        "    for(i=0 to N-1) #costs = c1, times = n+1\n",
        "    {\n",
        "        counter=1 #costs = c3, times = (tj)-1\n",
        "        for(j:=i to N-1)  #costs = c4, times = (tj*n)\n",
        "          {\n",
        "              if(A[i] == A[j]): #costs = c5, times = (tj*n)-1\n",
        "                counter += 1 #costs = c6, times = (tj*n)-1\n",
        "              if(counter > N/2): #costs = c7, times = (tj*n)-1\n",
        "                return A[i] #costs = c8, times = (tj*n)-1\n",
        "          }\n",
        "    }\n",
        "    return (\"no majority\") #costs = c9, times = n\n",
        "}\n",
        "\n",
        "#AJ, Algorithm2\n",
        "AjMajority2(A[0...N-1])\n",
        "{\n",
        "    unique = {} #Dictionary\n",
        "    for(i:=0 to N-1)\n",
        "    {\n",
        "        if(A[i] in unique):\n",
        "          unique[A[i]] := unique[A[i]] + 1\n",
        "        else:\n",
        "          unique[A[i]] = 1\n",
        "    }\n",
        "    for (each key in unique)\n",
        "        if(unique[key] > N/2):\n",
        "          return key\n",
        "    return (\"no majority\")\n",
        "}\n",
        "\n",
        "#Aj. Algorithm3 BEST; pivot and counter\n",
        "\n",
        "AjMajority3(A[0...N-1])\n",
        "{\n",
        "    pivot := NULL\n",
        "    counter := 0\n",
        "    for(each e in A)\n",
        "    {\n",
        "        if counter != 0\n",
        "        {\n",
        "            if pivot == e:\n",
        "            counter := counter + 1\n",
        "            else:\n",
        "            counter := counter - 1\n",
        "        }\n",
        "        else\n",
        "        {\n",
        "            pivot := e\n",
        "            counter := 1\n",
        "        }\n",
        "    }\n",
        "    counter := 0\n",
        "    for(each e in A)\n",
        "    {\n",
        "        if e == pivot:\n",
        "        counter := counter + 1\n",
        "    }\n",
        "    if counter > N/2:\n",
        "      return pivot\n",
        "    else:\n",
        "      return (\"no majority\")\n",
        "\n",
        "}"
      ],
      "metadata": {
        "id": "alfaCE9QPpe8"
      },
      "execution_count": null,
      "outputs": []
    },
    {
      "cell_type": "code",
      "source": [
        "#AJ, Algorithm\n",
        "AjMajority(A[0...N-1])\n",
        "{\n",
        "    for(i=0 to N-1) #costs = c1, times = n+1\n",
        "    {\n",
        "        counter=1 #costs = c2, times = n\n",
        "        for(j:=i to N-1)  #costs = c3, times = tj\n",
        "          {\n",
        "              if(A[i] == A[j]): #costs = c4, times = (tj)-1\n",
        "                counter += 1 #costs = c5, times = (tj)-1\n",
        "          }\n",
        "        if(counter > N/2): #costs = c6, times = n\n",
        "          return A[i] #costs = c7, times = n\n",
        "    }\n",
        "    return (\"no majority\") #costs = c8, times = 1\n",
        "}"
      ],
      "metadata": {
        "id": "bHgQcLDgnPzB"
      },
      "execution_count": null,
      "outputs": []
    },
    {
      "cell_type": "markdown",
      "source": [
        "$c_1(N+1) + c_2N + c_3\\sum_{i=0}^{N-1}\\sum_{j=i}^{N-1}j + c_4\\sum_{j=i}^{N-1}t_j-1 + c_5\\sum_{j=i}^{N-1}t_j-1 + c_6N + c_7N + c_8$"
      ],
      "metadata": {
        "id": "7z33OvB1m_UY"
      }
    },
    {
      "cell_type": "code",
      "source": [
        "def SortArray()\n",
        "{\n",
        "    for(i=0; i<N-1; i++)\n",
        "    {\n",
        "        for(j=0; j<N-1; j++)\n",
        "        {\n",
        "            if(A[j] > A[j+1]):\n",
        "              temp = A[j]\n",
        "              A[j] = A[j+1]\n",
        "              A[j+1] = temp\n",
        "        }\n",
        "    }\n",
        "}"
      ],
      "metadata": {
        "id": "Y_yqnT3YZ2t-"
      },
      "execution_count": null,
      "outputs": []
    },
    {
      "cell_type": "markdown",
      "source": [
        "Make a better algorithm to minimize resources like:\n",
        "\n",
        "  Time : count the number of in instruction that is use to solve the problem, count the number of basic operation\n",
        "\n",
        "  what is not basic operator?\n",
        "\n",
        "  Very long bit strings and doubledouble\n",
        "\n",
        "  Loop\n",
        "  \n",
        "\n",
        "  Space :"
      ],
      "metadata": {
        "id": "tirwP_4xehbg"
      }
    },
    {
      "cell_type": "code",
      "source": [
        "#Insertion sort\n",
        "# Index  1 2 3 4 5\n",
        "# Value [5,4,3,2,1]\n",
        "# In this case we start from 2nd element\n",
        "\n",
        "for (j=2; j<len(A); j++):\n",
        "  {\n",
        "      key = A[j]\n",
        "      i = j-1\n",
        "      while(i>0 and A[i] > key):\n",
        "      {\n",
        "          A[i+1] = A[i]\n",
        "          i = i-1\n",
        "      }\n",
        "      A[i+1] = key\n",
        "  }"
      ],
      "metadata": {
        "id": "AYlLR7qsfQ_f"
      },
      "execution_count": null,
      "outputs": []
    }
  ]
}