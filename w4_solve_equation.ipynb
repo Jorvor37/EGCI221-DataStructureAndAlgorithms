{
 "cells": [
  {
   "cell_type": "code",
   "execution_count": null,
   "id": "faa8b205",
   "metadata": {
    "vscode": {
     "languageId": "r"
    }
   },
   "outputs": [],
   "source": [
    "import numpy as np\n",
    "import matplotlib.pyplot as plt\n",
    "\n",
    "# Define the range of x values\n",
    "x = np.linspace(-2, 4, 1000)\n",
    "\n",
    "# Define the functions 2^x and x^2\n",
    "y1 = 2**x\n",
    "y2 = x**2\n",
    "\n",
    "# Plot the functions\n",
    "plt.figure(figsize=(8, 6))\n",
    "plt.plot(x, y1, label=r\"$2^x$\")\n",
    "plt.plot(x, y2, label=r\"$x^2$\")\n",
    "plt.axhline(0, color='black', linewidth=0.5, linestyle='--')\n",
    "plt.axvline(0, color='black', linewidth=0.5, linestyle='--')\n",
    "\n",
    "# Highlight the intersection points\n",
    "plt.title(\"Graph of $2^x$ and $x^2$\")\n",
    "plt.xlabel(\"x\")\n",
    "plt.ylabel(\"y\")\n",
    "plt.legend()\n",
    "plt.grid()\n",
    "plt.show()"
   ]
  }
 ],
 "metadata": {
  "language_info": {
   "name": "python"
  }
 },
 "nbformat": 4,
 "nbformat_minor": 5
}
