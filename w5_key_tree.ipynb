{
 "cells": [
  {
   "cell_type": "code",
   "execution_count": null,
   "id": "712329e9",
   "metadata": {},
   "outputs": [],
   "source": [
    "d = { \"0212156852\" : (\"Alice\", 5000)\n",
    "     ,\"0212156853\" : (\"Bob\", 100)\n",
    "     ,\"0212156854\" : (\"Charlie\", 1000)\n",
    "     ,\"0212156855\" : (\"David\", 2000) }\n",
    "\n",
    "#add new key-value pair\n",
    "d[\"0751235891\"] = (\"Eve\", 1000000) \n",
    "\n",
    "#delete the key\n",
    "del(d[\"0751235891\"])\n",
    "\n",
    "#update value inside tuple\n",
    "d[\"0212156855\"] = (\"Davvey\", 20000) \n",
    "\n",
    "#to update key you need to delete the old key and add a new one\n",
    "del(d[\"0212156855\"])\n",
    "d[\"0212156855\"] = (\"David\", 2000)"
   ]
  },
  {
   "cell_type": "code",
   "execution_count": null,
   "id": "b936524e",
   "metadata": {},
   "outputs": [
    {
     "name": "stdout",
     "output_type": "stream",
     "text": [
      "0212156852\n",
      "0212156853\n",
      "0212156854\n",
      "0212156855\n"
     ]
    }
   ],
   "source": [
    "#This is also Tree Traversal in python but embedded in for loop\n",
    "for i in d:\n",
    "    print(i)"
   ]
  },
  {
   "cell_type": "markdown",
   "id": "54b8daf3",
   "metadata": {},
   "source": [
    "Tree is a collection of nodes, containing: \n",
    "\n",
    "    # A root node\n",
    "\n",
    "    # Zero or more child nodes for each node\n",
    "\n",
    "    # each child node id itself a tree (subtree)\n",
    "\n",
    "    # Nodes may contain data and links to their children"
   ]
  },
  {
   "cell_type": "markdown",
   "id": "416c8d63",
   "metadata": {},
   "source": [
    "# Binary Tree\n",
    "\n",
    "    # Each node have at most 2 childrens"
   ]
  },
  {
   "cell_type": "code",
   "execution_count": 31,
   "id": "4465560c",
   "metadata": {},
   "outputs": [],
   "source": [
    "class Node:\n",
    "    def __init__(self, key, left=None, right=None, value=None):\n",
    "        self.key = key\n",
    "        self.left = left\n",
    "        self.right = right\n",
    "        self.value = value\n",
    "\n",
    "    def get_value(self):\n",
    "        return self.value\n",
    "    \n",
    "    def get_key(self):\n",
    "        return self.key"
   ]
  },
  {
   "cell_type": "code",
   "execution_count": 32,
   "id": "e57ded74",
   "metadata": {},
   "outputs": [
    {
     "name": "stdout",
     "output_type": "stream",
     "text": [
      "<__main__.Node object at 0x7b09d2780410> <__main__.Node object at 0x7b09d2784320>\n",
      "<__main__.Node object at 0x7b09d2780410> <__main__.Node object at 0x7b09d2784320>\n"
     ]
    }
   ],
   "source": [
    "n1 = Node(key = \"Alice\", value = 3.5)\n",
    "n2 = Node(key = \"Bob\", left = n1, value = 3.9)\n",
    "n3 = Node(key = \"Charlie\", value = 4.0)\n",
    "\n",
    "#later assign the pointer\n",
    "n2.right = n3\n",
    "\n",
    "root = n2\n",
    "print(n2.left, n2.right)\n",
    "print(root.left, root.right)"
   ]
  },
  {
   "cell_type": "code",
   "execution_count": 33,
   "id": "fb0794b1",
   "metadata": {},
   "outputs": [
    {
     "data": {
      "text/plain": [
       "<__main__.Node at 0x7b09d2780410>"
      ]
     },
     "execution_count": 33,
     "metadata": {},
     "output_type": "execute_result"
    }
   ],
   "source": [
    "root.left"
   ]
  },
  {
   "cell_type": "code",
   "execution_count": 34,
   "id": "4773aa9b",
   "metadata": {},
   "outputs": [
    {
     "name": "stdout",
     "output_type": "stream",
     "text": [
      "3.9\n",
      "Bob\n",
      "Alice\n",
      "3.5\n",
      "Charlie\n",
      "4.0\n"
     ]
    }
   ],
   "source": [
    "print(root.get_value()) # 3.9\n",
    "print(root.get_key()) # Bob\n",
    "\n",
    "print(root.left.get_key()) # Alice\n",
    "print(root.left.get_value()) # 3.5\n",
    "print(root.right.get_key()) # Charlie\n",
    "print(root.right.get_value()) # 4.0"
   ]
  },
  {
   "cell_type": "markdown",
   "id": "0214d4f9",
   "metadata": {},
   "source": [
    "# Tree Traversal\n",
    "\n",
    "    # Depth First Search : Inorder, Preorder(regular), and Postorder, we go deepest first mostly start from the left, if cannot go comes back up\n",
    "\n",
    "    # Breadth-first search : search level by level"
   ]
  },
  {
   "cell_type": "code",
   "execution_count": 16,
   "id": "5f7649b9",
   "metadata": {},
   "outputs": [],
   "source": [
    "# Depth First Search (DFS) Traversal\n",
    "def DFS(node):\n",
    "    if node is not None:\n",
    "        DFS(node.left)\n",
    "        DFS(node.right)\n",
    "\n",
    "# type of Traversal\n",
    "# Pre-order: Root, Left, Right, compilier preference, enumerate the tree\n",
    "def PreOrderTraversal(node):\n",
    "    if node is not None:\n",
    "        print(node.key)\n",
    "        PreOrderTraversal(node.left)\n",
    "        PreOrderTraversal(node.right)\n",
    "\n",
    "# In-order: Left, Root, Right, human preference\n",
    "def InOrderTraversal(node):\n",
    "    if node is not None:\n",
    "        InOrderTraversal(node.left)\n",
    "        print(node.key)\n",
    "        InOrderTraversal(node.right)\n",
    "\n",
    "# Post-order: Left, Right, Root, compilier preference\n",
    "def PostOrderTraversal(node):  \n",
    "    if node is not None:\n",
    "        PostOrderTraversal(node.left)\n",
    "        PostOrderTraversal(node.right)\n",
    "        print(node.key)"
   ]
  },
  {
   "cell_type": "code",
   "execution_count": 17,
   "id": "2ad693e9",
   "metadata": {},
   "outputs": [
    {
     "name": "stdout",
     "output_type": "stream",
     "text": [
      "Bob\n",
      "Charlie\n"
     ]
    }
   ],
   "source": [
    "InOrderTraversal(root) # Alice, Bob, Charlie"
   ]
  },
  {
   "cell_type": "markdown",
   "id": "4fb877fb",
   "metadata": {},
   "source": [
    "# Binary Search Tree\n",
    "\n",
    "    # All nodes left of root is less than, all nodes right of root is greater then. \n",
    "\n",
    "    # Best case : TC = binary search - O(log n)\n",
    "\n",
    "    # Worse case : TC = linear search - O(n)"
   ]
  },
  {
   "cell_type": "code",
   "execution_count": null,
   "id": "77c96b74",
   "metadata": {},
   "outputs": [],
   "source": [
    "def search(node, key):\n",
    "    if node is None or node.key == key:\n",
    "        return node\n",
    "    elif key < node.key:\n",
    "        return search(node.left, key)\n",
    "    else:\n",
    "        return search(node.right, key)\n",
    "\n",
    "#change recursive function to iterative by using while loop\n",
    "def search_iterative(node, key):\n",
    "    while node is not None and node.key != key:\n",
    "        if key < node.key:\n",
    "            node = node.left\n",
    "        else:\n",
    "            node = node.right\n",
    "    return node\n",
    "\n",
    "#tree-minimum\n",
    "def tree_minimum(node):\n",
    "    while node.left is not None:\n",
    "        node = node.left\n",
    "    return node\n",
    "\n",
    "#tree-maximum\n",
    "def tree_maximum(node):\n",
    "    while node.right is not None:\n",
    "        node = node.right\n",
    "    return node\n",
    "\n",
    "#tree-successor\n",
    "def tree_successor(node):\n",
    "    if node.right is not None:\n",
    "        return tree_minimum(node.right)\n",
    "    y = node.parent\n",
    "    while y is not None and node == y.right:\n",
    "        node = y\n",
    "        y = y.parent\n",
    "    return y\n",
    "\n",
    "#tree-insert\n",
    "#search for the right place to insert the new node\n",
    "def tree_insert(root, node):\n",
    "    y = None\n",
    "    x = root\n",
    "\n",
    "    #search the place for insert z\n",
    "    while x is not None:\n",
    "        y = x\n",
    "        if node.key < x.key:\n",
    "            x = x.left\n",
    "        else:\n",
    "            x = x.right\n",
    "    node.parent = y\n",
    "    \n",
    "    if y is None:\n",
    "        root = node\n",
    "    elif node.key < y.key:\n",
    "        y.left = node\n",
    "    else:\n",
    "        y.right = node\n",
    "    return root"
   ]
  },
  {
   "cell_type": "markdown",
   "id": "6f88ce16",
   "metadata": {},
   "source": [
    "# Deletion in Binary Tree (Hardest)\n",
    "\n",
    "    # consider 3 cases\n",
    " \n",
    "        1. If z has no children, modify parent (node.left or node.right) to NULL\n",
    "\n",
    "        2. If z has 1 children, replace z by z' children node (node = node.left or node.right)\n",
    "\n",
    "        3. If z has 2 childrens, find z's successor of y (key that larger than all left and smaller than all right)\n",
    "\n",
    "    # 4 procedures\n",
    "\n",
    "        1. If z have no left child, then replace node with right children (num or null)\n",
    "\n",
    "        2. If z has 1 child, and left children, then replace z by left child.\n",
    "\n",
    "        3. If z has 2 child, If y is right sub-tree, and     right children, replace z by y (directly sucessor)\n",
    "        \n",
    "        4. If z has 2 child, If y is right sub-tree, but not right children, then replace y by it own right child, then replace z by y (find sucessor)"
   ]
  },
  {
   "cell_type": "markdown",
   "id": "a2383d0b",
   "metadata": {},
   "source": [
    "# Transplant"
   ]
  },
  {
   "cell_type": "code",
   "execution_count": null,
   "id": "7101d024",
   "metadata": {},
   "outputs": [],
   "source": [
    "def transplant(t, u, v):\n",
    "    if u.parent = None:\n",
    "        t.root = v\n",
    "    elif(u == u.parent.left):\n",
    "        u.parent.left = v\n",
    "    else:\n",
    "        u.parent.right = v\n",
    "    if v is not None:\n",
    "        v.parent = u.parent\n",
    "    return t"
   ]
  },
  {
   "cell_type": "code",
   "execution_count": null,
   "id": "3279c480",
   "metadata": {},
   "outputs": [],
   "source": [
    "def tree_delete(node, z):\n",
    "    if z.left == None:\n",
    "        transplant(node, z, z.right)\n",
    "    elif z.right == None:\n",
    "        transplant(node, z, z.left)\n",
    "    else:\n",
    "        y = tree_minimum(z.right)\n",
    "        if y.parent != z:\n",
    "            transplant(node, y, y.right) #delete y from its parent\n",
    "            y.right = z.right\n",
    "            y.right.parent = y\n",
    "        transplant(node, z, y) #delete z from its parent\n",
    "        y.left = z.left\n",
    "        y.left.parent = y\n",
    "    return node"
   ]
  }
 ],
 "metadata": {
  "kernelspec": {
   "display_name": "Python 3",
   "language": "python",
   "name": "python3"
  },
  "language_info": {
   "codemirror_mode": {
    "name": "ipython",
    "version": 3
   },
   "file_extension": ".py",
   "mimetype": "text/x-python",
   "name": "python",
   "nbconvert_exporter": "python",
   "pygments_lexer": "ipython3",
   "version": "3.12.1"
  }
 },
 "nbformat": 4,
 "nbformat_minor": 5
}
