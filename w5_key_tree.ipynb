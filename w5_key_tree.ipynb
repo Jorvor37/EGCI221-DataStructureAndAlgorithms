{
 "cells": [
  {
   "cell_type": "code",
   "execution_count": null,
   "id": "712329e9",
   "metadata": {},
   "outputs": [],
   "source": [
    "d = { \"0212156852\" : (\"Alice\", 5000)\n",
    "     ,\"0212156853\" : (\"Bob\", 100)\n",
    "     ,\"0212156854\" : (\"Charlie\", 1000)\n",
    "     ,\"0212156855\" : (\"David\", 2000) }\n",
    "\n",
    "#add new key-value pair\n",
    "d[\"0751235891\"] = (\"Eve\", 1000000) \n",
    "\n",
    "#delete the key\n",
    "del(d[\"0751235891\"])\n",
    "\n",
    "#update value inside tuple\n",
    "d[\"0212156855\"] = (\"Davvey\", 20000) \n",
    "\n",
    "#to update key you need to delete the old key and add a new one\n",
    "del(d[\"0212156855\"])\n",
    "d[\"0212156855\"] = (\"David\", 2000)"
   ]
  },
  {
   "cell_type": "code",
   "execution_count": null,
   "id": "b936524e",
   "metadata": {},
   "outputs": [
    {
     "name": "stdout",
     "output_type": "stream",
     "text": [
      "0212156852\n",
      "0212156853\n",
      "0212156854\n",
      "0212156855\n"
     ]
    }
   ],
   "source": [
    "#This is also Tree Traversal in python but embedded in for loop\n",
    "for i in d:\n",
    "    print(i)"
   ]
  },
  {
   "cell_type": "markdown",
   "id": "54b8daf3",
   "metadata": {},
   "source": [
    "Tree is a collection of nodes, containing: \n",
    "\n",
    "    # A root node\n",
    "\n",
    "    # Zero or more child nodes for each node\n",
    "\n",
    "    # each child node id itself a tree (subtree)\n",
    "\n",
    "    # Nodes may contain data and links to their children"
   ]
  },
  {
   "cell_type": "markdown",
   "id": "416c8d63",
   "metadata": {},
   "source": [
    "# Binary Tree\n",
    "\n",
    "    # Each node have at most 2 childrens"
   ]
  },
  {
   "cell_type": "code",
   "execution_count": 31,
   "id": "4465560c",
   "metadata": {},
   "outputs": [],
   "source": [
    "class Node:\n",
    "    def __init__(self, key, left=None, right=None, value=None):\n",
    "        self.key = key\n",
    "        self.left = left\n",
    "        self.right = right\n",
    "        self.value = value\n",
    "\n",
    "    def get_value(self):\n",
    "        return self.value\n",
    "    \n",
    "    def get_key(self):\n",
    "        return self.key"
   ]
  },
  {
   "cell_type": "code",
   "execution_count": 32,
   "id": "e57ded74",
   "metadata": {},
   "outputs": [
    {
     "name": "stdout",
     "output_type": "stream",
     "text": [
      "<__main__.Node object at 0x7b09d2780410> <__main__.Node object at 0x7b09d2784320>\n",
      "<__main__.Node object at 0x7b09d2780410> <__main__.Node object at 0x7b09d2784320>\n"
     ]
    }
   ],
   "source": [
    "n1 = Node(key = \"Alice\", value = 3.5)\n",
    "n2 = Node(key = \"Bob\", left = n1, value = 3.9)\n",
    "n3 = Node(key = \"Charlie\", value = 4.0)\n",
    "\n",
    "#later assign the pointer\n",
    "n2.right = n3\n",
    "\n",
    "root = n2\n",
    "print(n2.left, n2.right)\n",
    "print(root.left, root.right)"
   ]
  },
  {
   "cell_type": "code",
   "execution_count": 33,
   "id": "fb0794b1",
   "metadata": {},
   "outputs": [
    {
     "data": {
      "text/plain": [
       "<__main__.Node at 0x7b09d2780410>"
      ]
     },
     "execution_count": 33,
     "metadata": {},
     "output_type": "execute_result"
    }
   ],
   "source": [
    "root.left"
   ]
  },
  {
   "cell_type": "code",
   "execution_count": 34,
   "id": "4773aa9b",
   "metadata": {},
   "outputs": [
    {
     "name": "stdout",
     "output_type": "stream",
     "text": [
      "3.9\n",
      "Bob\n",
      "Alice\n",
      "3.5\n",
      "Charlie\n",
      "4.0\n"
     ]
    }
   ],
   "source": [
    "print(root.get_value()) # 3.9\n",
    "print(root.get_key()) # Bob\n",
    "\n",
    "print(root.left.get_key()) # Alice\n",
    "print(root.left.get_value()) # 3.5\n",
    "print(root.right.get_key()) # Charlie\n",
    "print(root.right.get_value()) # 4.0"
   ]
  },
  {
   "cell_type": "markdown",
   "id": "0214d4f9",
   "metadata": {},
   "source": [
    "# Tree Traversal\n",
    "\n",
    "    # Depth First Search : Inorder, Preorder(regular), and Postorder, we go deepest first mostly start from the left, if cannot go comes back up\n",
    "\n",
    "    # Breadth-first search : search level by level"
   ]
  },
  {
   "cell_type": "code",
   "execution_count": 16,
   "id": "5f7649b9",
   "metadata": {},
   "outputs": [],
   "source": [
    "# Depth First Search (DFS) Traversal\n",
    "def DFS(node):\n",
    "    if node is not None:\n",
    "        DFS(node.left)\n",
    "        DFS(node.right)\n",
    "\n",
    "# type of Traversal\n",
    "# Pre-order: Root, Left, Right, compilier preference, enumerate the tree\n",
    "def PreOrderTraversal(node):\n",
    "    if node is not None:\n",
    "        print(node.key)\n",
    "        PreOrderTraversal(node.left)\n",
    "        PreOrderTraversal(node.right)\n",
    "\n",
    "# In-order: Left, Root, Right, human preference\n",
    "def InOrderTraversal(node):\n",
    "    if node is not None:\n",
    "        InOrderTraversal(node.left)\n",
    "        print(node.key)\n",
    "        InOrderTraversal(node.right)\n",
    "\n",
    "# Post-order: Left, Right, Root, compilier preference\n",
    "def PostOrderTraversal(node):  \n",
    "    if node is not None:\n",
    "        PostOrderTraversal(node.left)\n",
    "        PostOrderTraversal(node.right)\n",
    "        print(node.key)"
   ]
  },
  {
   "cell_type": "code",
   "execution_count": 17,
   "id": "2ad693e9",
   "metadata": {},
   "outputs": [
    {
     "name": "stdout",
     "output_type": "stream",
     "text": [
      "Bob\n",
      "Charlie\n"
     ]
    }
   ],
   "source": [
    "InOrderTraversal(root) # Alice, Bob, Charlie"
   ]
  },
  {
   "cell_type": "markdown",
   "id": "4fb877fb",
   "metadata": {},
   "source": [
    "# Binary Search Tree\n",
    "\n",
    "    # All nodes left of root is less than, all nodes right of root is greater then. \n",
    "\n",
    "    # Best case : TC = binary search - O(log n)\n",
    "\n",
    "    # Worse case : TC = linear search - O(n)"
   ]
  },
  {
   "cell_type": "code",
   "execution_count": null,
   "id": "77c96b74",
   "metadata": {},
   "outputs": [],
   "source": [
    "def search(node, key):\n",
    "    if node is None or node.key == key:\n",
    "        return node\n",
    "    elif key < node.key:\n",
    "        return search(node.left, key)\n",
    "    else:\n",
    "        return search(node.right, key)\n",
    "\n",
    "#change recursive function to iterative by using while loop\n",
    "def search_iterative(node, key):\n",
    "    while node is not None and node.key != key:\n",
    "        if key < node.key:\n",
    "            node = node.left\n",
    "        else:\n",
    "            node = node.right\n",
    "    return node"
   ]
  }
 ],
 "metadata": {
  "kernelspec": {
   "display_name": "Python 3",
   "language": "python",
   "name": "python3"
  },
  "language_info": {
   "codemirror_mode": {
    "name": "ipython",
    "version": 3
   },
   "file_extension": ".py",
   "mimetype": "text/x-python",
   "name": "python",
   "nbconvert_exporter": "python",
   "pygments_lexer": "ipython3",
   "version": "3.12.1"
  }
 },
 "nbformat": 4,
 "nbformat_minor": 5
}
