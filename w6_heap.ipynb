{
 "cells": [
  {
   "cell_type": "markdown",
   "id": "22adc72d",
   "metadata": {},
   "source": [
    "# Heap\n",
    "\n",
    "    # Binary Heaps: Binary tree with heap property\n",
    "\n",
    "    # Binomial Heaps: Binomial tree with heap property\n",
    "\n",
    "    # Fibonacci Heaps: Fibonacci tree with heap property"
   ]
  },
  {
   "cell_type": "markdown",
   "id": "684357c6",
   "metadata": {},
   "source": [
    "# Min Heaps\n",
    "\n",
    "    # All children nodes have more value than root node\n",
    "\n",
    "# Max Heaps\n",
    "\n",
    "    # All children nodes have less value than root node"
   ]
  },
  {
   "cell_type": "code",
   "execution_count": null,
   "id": "a3d21f2f",
   "metadata": {},
   "outputs": [
    {
     "name": "stdout",
     "output_type": "stream",
     "text": [
      "[5, 9, 3, 7, 2]\n"
     ]
    }
   ],
   "source": [
    "# Define the heap array (index 0 is unused for easier math)\n",
    "A = [5, 9, 3, 7, 2]  # Example: heap with 5 elements\n",
    "print(A)\n",
    "\n",
    "def swap(i, j):\n",
    "    x = A[i]\n",
    "    A[i] = A[j]\n",
    "    A[j] = x\n",
    "\n",
    "def percolateUP(hole):\n",
    "    \"\"\"\n",
    "    function where we compare the interested child_node\n",
    "    to the parent node using index compare < index//2\n",
    "    this takes Bigtheta(log n)\n",
    "    \"\"\"\n",
    "    #while not root node and chilren < parent\n",
    "    while hole > 1 and A[hole] < A[hole // 2]:\n",
    "        #swap parent and children\n",
    "        swap(hole, hole // 2)\n",
    "        #move pointer to parent\n",
    "        hole = hole // 2\n",
    "\n",
    "def percolateDOWN(hole, currentSize):\n",
    "    \"\"\"\n",
    "    function where we insert the value to root node\n",
    "    then compare between index_left and index_right\n",
    "    which index have lesser value we swap with that node\n",
    "    this takes Bigtheta(log n)\n",
    "    \"\"\"\n",
    "    #while not at leaf node\n",
    "    while hole * 2 <= currentSize:\n",
    "        child = hole * 2\n",
    "        # If right child exists and is smaller than left child\n",
    "        if child != currentSize and A[child + 1] < A[child]:\n",
    "            child = child + 1\n",
    "        # If child is smaller than parent\n",
    "        if A[child] < A[hole]:\n",
    "            swap(hole, child)\n",
    "        else:\n",
    "            break\n",
    "        hole = child"
   ]
  },
  {
   "cell_type": "code",
   "execution_count": 14,
   "id": "795aa650",
   "metadata": {},
   "outputs": [],
   "source": [
    "def insert(x, currentSize, maxSize):\n",
    "    \"\"\"\n",
    "    the function that \n",
    "    \"\"\"\n",
    "    if currentSize >= maxSize:\n",
    "        return \"Overflow\"\n",
    "    currentSize += 1\n",
    "    A.append(None)  # Ensure space if using dynamic array\n",
    "    A[currentSize] = x\n",
    "    percolateUP(currentSize)\n",
    "    return currentSize\n",
    "\n",
    "#test subject\n",
    "maxSize = 10\n",
    "currentSize = len(A) - 1  # Since A[0] is None\n",
    "currentSize = insert(4, currentSize, maxSize)"
   ]
  },
  {
   "cell_type": "code",
   "execution_count": 15,
   "id": "494fba62",
   "metadata": {},
   "outputs": [
    {
     "name": "stdout",
     "output_type": "stream",
     "text": [
      "[5, 4, 3, 9, 2, 4, 7]\n"
     ]
    }
   ],
   "source": [
    "def findMin():\n",
    "    if A[0] is None:\n",
    "        return None\n",
    "    else:\n",
    "        return A[0]\n",
    "    \n",
    "def deleteMin(currentSize):\n",
    "    \"\"\"\n",
    "    swap the last element with the root node\n",
    "    then perculateDOWN to re-struct to right position\n",
    "    \"\"\"\n",
    "    if currentSize == 0:\n",
    "        return None, currentSize\n",
    "    minItem = A[1]\n",
    "    A[1] = A[currentSize]\n",
    "    A.pop()  # Remove last element\n",
    "    currentSize -= 1\n",
    "    if currentSize >= 1:\n",
    "        percolateDOWN(1, currentSize)\n",
    "    return minItem, currentSize\n",
    "\n",
    "print(A)"
   ]
  },
  {
   "cell_type": "markdown",
   "id": "29002a26",
   "metadata": {},
   "source": [
    "# Build Heap\n",
    "\n",
    "    #takes proper binary tree as an input"
   ]
  },
  {
   "cell_type": "code",
   "execution_count": 17,
   "id": "40a1f8c9",
   "metadata": {},
   "outputs": [
    {
     "ename": "TypeError",
     "evalue": "heapSort() takes 0 positional arguments but 1 was given",
     "output_type": "error",
     "traceback": [
      "\u001b[31m---------------------------------------------------------------------------\u001b[39m",
      "\u001b[31mTypeError\u001b[39m                                 Traceback (most recent call last)",
      "\u001b[36mCell\u001b[39m\u001b[36m \u001b[39m\u001b[32mIn[17]\u001b[39m\u001b[32m, line 26\u001b[39m\n\u001b[32m     23\u001b[39m         swap(\u001b[32m1\u001b[39m, i)\n\u001b[32m     24\u001b[39m         percolateDOWN(\u001b[32m1\u001b[39m, i - \u001b[32m1\u001b[39m)\n\u001b[32m---> \u001b[39m\u001b[32m26\u001b[39m \u001b[43mheapSort\u001b[49m\u001b[43m(\u001b[49m\u001b[43mA\u001b[49m\u001b[43m)\u001b[49m\n\u001b[32m     27\u001b[39m \u001b[38;5;28mprint\u001b[39m(A)\n",
      "\u001b[31mTypeError\u001b[39m: heapSort() takes 0 positional arguments but 1 was given"
     ]
    }
   ],
   "source": [
    "def buildHeap(currentSize):\n",
    "    for i in range(currentSize // 2, 0, -1):\n",
    "        percolateDOWN(i, currentSize)\n",
    "\n",
    "def decreaseKey(p, d, currentSize):\n",
    "    if p > currentSize:\n",
    "        return \"Out of Range\"\n",
    "    A[p] = A[p] - d\n",
    "    percolateUP(p)\n",
    "\n",
    "def increaseKey(p, d, currentSize):\n",
    "    if p > currentSize:\n",
    "        return \"Out of Range\"\n",
    "    A[p] = A[p] + d\n",
    "    percolateDOWN(p, currentSize)\n",
    "\n",
    "\n",
    "def heapSort():\n",
    "    global A\n",
    "    currentSize = len(A) - 1\n",
    "    buildHeap(currentSize)\n",
    "    for i in range(currentSize, 1, -1):\n",
    "        swap(1, i)\n",
    "        percolateDOWN(1, i - 1)\n",
    "\n",
    "heapSort(A)\n",
    "print(A)"
   ]
  },
  {
   "cell_type": "code",
   "execution_count": null,
   "id": "323a844b",
   "metadata": {},
   "outputs": [],
   "source": []
  }
 ],
 "metadata": {
  "kernelspec": {
   "display_name": "Python 3",
   "language": "python",
   "name": "python3"
  },
  "language_info": {
   "codemirror_mode": {
    "name": "ipython",
    "version": 3
   },
   "file_extension": ".py",
   "mimetype": "text/x-python",
   "name": "python",
   "nbconvert_exporter": "python",
   "pygments_lexer": "ipython3",
   "version": "3.12.1"
  }
 },
 "nbformat": 4,
 "nbformat_minor": 5
}
