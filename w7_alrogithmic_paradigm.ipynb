{
 "cells": [
  {
   "cell_type": "markdown",
   "id": "819f8b5b",
   "metadata": {},
   "source": [
    "# Recursion\n",
    "\n",
    "    # How to use recursion to solve the problem"
   ]
  },
  {
   "cell_type": "code",
   "execution_count": null,
   "id": "5fdea46e",
   "metadata": {},
   "outputs": [],
   "source": [
    "\"\"\"\n",
    "Problem solving steps\n",
    "1. Find the variable(s) that describe the problem's size.    # in some problem there maybe > 1 variable\n",
    "2. Find the action(s) that reduce the size of problem.\n",
    "3. Assume that you know the solution of sub-problem, use this solution to solve the original problem.\n",
    "\"\"\"\n",
    "\n",
    "def hanoi_min_moves(n):\n",
    "    if n == 1:\n",
    "        return 1\n",
    "    else:\n",
    "        return 2 * hanoi_min_moves(n-1) + 1\n",
    "    \n",
    "def hanoi(n, src, dst, tmp):\n",
    "    if n >= 1:\n",
    "        hanoi(n-1, src, tmp, dst)\n",
    "        print(\"Move plate %d from %c to %c\"%(n, src, tmp))\n",
    "        hanoi(n-1, tmp, dst, src)\n",
    "    "
   ]
  },
  {
   "cell_type": "code",
   "execution_count": 7,
   "id": "abe41543",
   "metadata": {},
   "outputs": [
    {
     "name": "stdout",
     "output_type": "stream",
     "text": [
      "Move plate 1 from A to B\n",
      "Move plate 2 from A to C\n",
      "Move plate 1 from C to A\n",
      "Move plate 3 from A to B\n",
      "Move plate 1 from B to C\n",
      "Move plate 2 from B to A\n",
      "Move plate 1 from A to B\n",
      "Move plate 4 from A to C\n",
      "Move plate 1 from C to A\n",
      "Move plate 2 from C to B\n",
      "Move plate 1 from B to C\n",
      "Move plate 3 from C to A\n",
      "Move plate 1 from A to B\n",
      "Move plate 2 from A to C\n",
      "Move plate 1 from C to A\n"
     ]
    }
   ],
   "source": [
    "hanoi(4, 'A', 'B', 'C')"
   ]
  },
  {
   "cell_type": "raw",
   "id": "4caf7263",
   "metadata": {
    "vscode": {
     "languageId": "raw"
    }
   },
   "source": [
    "\"\"\"\n",
    "Problem solving steps\n",
    "1. Find the variable(s) that describe the problem's size.    # in some problem there maybe > 1 variable\n",
    "2. Find the action(s) that reduce the size of problem.\n",
    "3. Assume that you know the solution of sub-problem, use this solution to solve the original problem.\n",
    "\"\"\"\n",
    "\n",
    "\"\"\"\n",
    "1. variable := the length of chess board\n",
    "2. action := place 2x1 domino in vertical, and horizontal\n",
    "\"\"\"\n",
    "\n",
    "n = 1, 1 method\n",
    "\n",
    "n = 2, 4 methods\n",
    "\n",
    "n = 3, 7 methods\n",
    "\n",
    "n = 4, 10 methods\n",
    "\n",
    "n = 5, 13 methods\n",
    "\n",
    "f(n) = f(n-1) + f(n-2) methods\n",
    "\n"
   ]
  },
  {
   "cell_type": "code",
   "execution_count": null,
   "id": "8e21d2b4",
   "metadata": {},
   "outputs": [],
   "source": [
    "def dominos(n):\n",
    "    if n == 1:\n",
    "        return 1\n",
    "    elif n == 2:\n",
    "        return 2\n",
    "    else:\n",
    "        return dominos(n-1) + dominos(n-2)"
   ]
  },
  {
   "cell_type": "code",
   "execution_count": 2,
   "id": "4f7722bb",
   "metadata": {},
   "outputs": [
    {
     "name": "stdout",
     "output_type": "stream",
     "text": [
      "3\n"
     ]
    }
   ],
   "source": [
    "\"\"\"\n",
    "f(n) := min{f(n-1), f(n-7), f(n-10)} + 1\n",
    "f(1) := 1\n",
    "f(2) := 2\n",
    "f(3) := 3\n",
    "f(4) := 4\n",
    "f(5) := 5\n",
    "f(6) := 6\n",
    "f(7) := 1\n",
    "f(8) := 2\n",
    "f(9) := 3\n",
    "f(10) := 1\n",
    "\"\"\"\n",
    "\n",
    "def min_coins(n):\n",
    "    if n == 0:\n",
    "        return 0\n",
    "    res = float('inf')\n",
    "    for coin in [1, 7, 10]:\n",
    "        if n - coin >= 0:\n",
    "            res = min(res, 1 + min_coins(n - coin))\n",
    "    return res\n",
    "\n",
    "m = 15  # Example amount to make change for\n",
    "print(min_coins(m))\n"
   ]
  },
  {
   "cell_type": "code",
   "execution_count": null,
   "id": "682b738d",
   "metadata": {},
   "outputs": [],
   "source": [
    "\"\"\"\n",
    "if we have m and n block if we want to find the number of ways to reach from (0,0) to (m,n) then\n",
    "f(m,n) = f(m, n-1) + f(m-1, n)\n",
    "f(0,n) := 1\n",
    "f(m,0) := 1\n",
    "\"\"\"\n",
    "\n",
    "def f(m,n):\n",
    "    if m == 0 or n == 0:\n",
    "        return 1\n",
    "    else:\n",
    "        return f(m, n-1) + f(m-1, n)"
   ]
  }
 ],
 "metadata": {
  "kernelspec": {
   "display_name": "Python 3",
   "language": "python",
   "name": "python3"
  },
  "language_info": {
   "codemirror_mode": {
    "name": "ipython",
    "version": 3
   },
   "file_extension": ".py",
   "mimetype": "text/x-python",
   "name": "python",
   "nbconvert_exporter": "python",
   "pygments_lexer": "ipython3",
   "version": "3.12.1"
  }
 },
 "nbformat": 4,
 "nbformat_minor": 5
}
