{
 "cells": [
  {
   "cell_type": "markdown",
   "id": "78ba71fa",
   "metadata": {},
   "source": [
    "\n",
    "# Optimal substructure\n",
    "\n",
    "means that the solution to a problem can be constructed from optimal solutions of its subproblems.\n",
    "\n",
    "# Overlapping substructure \n",
    "\n",
    "means that the problem can be broken down into subproblems which are reused several times."
   ]
  },
  {
   "cell_type": "code",
   "execution_count": null,
   "id": "ae4535ec",
   "metadata": {},
   "outputs": [],
   "source": [
    "M = [0, 1, 2] + [-1 for i in range(100)]\n",
    "\n",
    "\"\"\"\n",
    "Bottom up dynamic programming solution to the Fibonacci sequence.\n",
    "more efficient than the recursive solution.\n",
    "\"\"\"\n",
    "def f(n):\n",
    "    if n < 3:\n",
    "        return M[n]\n",
    "    for i in range(3, n + 1):\n",
    "        M[i] = M[i - 1] + M[i - 2]\n",
    "    return M[n]"
   ]
  },
  {
   "cell_type": "code",
   "execution_count": 9,
   "id": "125baa2a",
   "metadata": {},
   "outputs": [
    {
     "name": "stdout",
     "output_type": "stream",
     "text": [
      "[0, 0, 7, 5, 3, 4, 6, 2, 1, 8, 9]\n",
      "Maximum score: 26\n"
     ]
    }
   ],
   "source": [
    "\"\"\"\n",
    "write a cookie run problem solution using dynamic programming.\n",
    "cookie run after it jump once we cannot jump again. have to wait for 2 blocks.\n",
    "write the solution to get maximum score.\n",
    "\"\"\"\n",
    "\n",
    "# random array to 100 arrays\n",
    "import random\n",
    "rand = random.randint(0, 100)\n",
    "#A = [0, 0] + [random.randint(0, rand) for i in range(98)] + [0]\n",
    "A = [0, 0, 7, 5, 3, 4, 6, 2, 1, 8, 9]\n",
    "print(A)\n",
    "\n",
    "def cookie_run(n):\n",
    "    # n is the index of the block we are on\n",
    "    if n < 2:\n",
    "        return A[n]\n",
    "    # Initialize the maximum score array\n",
    "    M = [0 for _ in range(n + 1)]\n",
    "    M[0] = A[0]\n",
    "    M[1] = A[1]\n",
    "    # Fill the maximum score array using dynamic programming\n",
    "    for i in range(2, n + 1):\n",
    "        # After a jump, must wait 2 blocks before next jump\n",
    "        # So, can either skip this block, or jump from i-2 (waited 2 blocks)\n",
    "        # or jump from i-3 (waited 2 blocks after previous jump)\n",
    "        take = 0\n",
    "        if i >= 2:\n",
    "            take = M[i - 2] + A[i]\n",
    "        if i >= 3:\n",
    "            take = max(take, M[i - 3] + A[i])\n",
    "        M[i] = max(M[i - 1], take)\n",
    "    return M[n]\n",
    "\n",
    "# test the cookie run function\n",
    "n = len(A) - 1\n",
    "print(\"Maximum score:\", cookie_run(n))"
   ]
  },
  {
   "cell_type": "code",
   "execution_count": 14,
   "id": "1ed2ecb5",
   "metadata": {},
   "outputs": [
    {
     "name": "stdout",
     "output_type": "stream",
     "text": [
      "[0, 0, 43, 4, 21, 64, 40, 35, 24, 13, 3, 8, 1, 39, 10, 44, 0, 29, 26, 21, 13, 27, 54, 46, 49, 10, 31, 6, 62, 26, 0, 45, 21, 24, 24, 2, 43, 4, 56, 48, 20, 18, 33, 10, 63, 11, 43, 0, 33, 14, 67, 3, 55, 56, 49, 48, 43, 53, 5, 1, 56, 68, 41, 44, 46, 11, 61, 38, 25, 11, 47, 5, 37, 62, 32, 5, 26, 30, 29, 25, 31, 13, 7, 27, 32, 13, 22, 29, 1, 21, 55, 28, 21, 16, 36, 36, 32, 46, 0, 15, 0]\n",
      "Maximum score: 1264\n"
     ]
    }
   ],
   "source": [
    "\"\"\"\n",
    "กระโดดได้จากบล็อก j → i ถ้า i - j ≥ 3 เพราะต้องรอ 2 ช่องก่อนจะกระโดด\n",
    "\"\"\"\n",
    "\n",
    "def cookie_run(A):\n",
    "    \"\"\"\n",
    "    A คืออาร์เรคะแนนในแต่ละบล็อก\n",
    "\tn คือจำนวนบล็อกทั้งหมด\n",
    "    dp[i] จะเก็บ \"คะแนนสูงสุดที่สามารถได้เก็บเมื่อไปถึงหรือผ่านบล็อกที่ i\"\n",
    "    \"\"\"\n",
    "    n = len(A)\n",
    "    dp = [0] * n\n",
    "    dp[0] = A[0]\n",
    "    dp[1] = A[1]\n",
    "    dp[2] = A[2]\n",
    "\n",
    "    for i in range(3, n):\n",
    "        max_score = 0\n",
    "        for j in range(i - 3 + 1):  # jump allowed from 0 to i-3\n",
    "            max_score = max(max_score, dp[j] + A[i])\n",
    "        dp[i] = max(dp[i - 1], max_score)\n",
    "    \n",
    "    return dp[-1], dp\n",
    "\n",
    "#A = [0, 0, 7, 5, 3, 4, 6, 2, 1, 8, 9] #test case\n",
    "A = [0, 0] + [random.randint(0, rand) for i in range(98)] + [0]\n",
    "print(A)\n",
    "max_score, dp = cookie_run(A)\n",
    "print(\"Maximum score:\", max_score)"
   ]
  },
  {
   "cell_type": "markdown",
   "id": "17793354",
   "metadata": {},
   "source": [
    "### Collect from block[i], next allowed is block[i+3] or above\n",
    "\n",
    "After collecting from block[i], you can only collect from block[i+3] or above. The dynamic programming solution is updated accordingly."
   ]
  },
  {
   "cell_type": "code",
   "execution_count": 1,
   "id": "87a4c86c",
   "metadata": {},
   "outputs": [
    {
     "name": "stdout",
     "output_type": "stream",
     "text": [
      "Maximum sum collected: 22\n"
     ]
    }
   ],
   "source": [
    "A = [0, 0, 7, 5, 3, 4, 6, 2, 1, 8, 9]\n",
    "#A = [0, 0] + [random.randint(0, rand) for i in range(98)]\n",
    "n = len(A)\n",
    "M = [0] * n\n",
    "next_idx = [-1] * n  # To track the next index chosen for the optimal path\n",
    "\n",
    "# M[i] = max sum we can collect starting at block i\n",
    "for i in range(n-1, 1, -1):\n",
    "    # If we take block i, next we can take from i+3 or above\n",
    "    take = A[i]\n",
    "    if i + 3 < n:\n",
    "        take += M[i+3]\n",
    "    # Or skip this block\n",
    "    skip = 0\n",
    "    if i + 1 < n:\n",
    "        skip = M[i+1]\n",
    "    if take >= skip:\n",
    "        M[i] = take\n",
    "        next_idx[i] = i+3 if i+3 < n else -1\n",
    "    else:\n",
    "        M[i] = skip\n",
    "        next_idx[i] = i+1 if i+1 < n else -1\n",
    "\n",
    "print(\"Maximum sum collected:\", M[2])"
   ]
  },
  {
   "cell_type": "code",
   "execution_count": null,
   "id": "87a4c86c",
   "metadata": {},
   "outputs": [
    {
     "name": "stdout",
     "output_type": "stream",
     "text": [
      "Blocks collected (indices): [4, 7, 10, 13, 16, 20, 23, 26, 29, 32, 35, 39, 43, 46, 50, 53, 57, 61, 64, 67, 70, 74, 77, 80, 83, 86, 89, 92, 95, 98]\n",
      "Blocks collected (values): [25, 36, 43, 40, 45, 42, 19, 42, 13, 36, 34, 30, 43, 43, 43, 39, 34, 40, 41, 28, 30, 37, 7, 26, 34, 42, 35, 39, 11, 45]\n"
     ]
    }
   ],
   "source": [
    "# Trace back the path\n",
    "collected_indices = []\n",
    "collected_values = []\n",
    "i = 2\n",
    "while i != -1 and i < n:\n",
    "    if next_idx[i] == i+3 or next_idx[i] == -1:\n",
    "        collected_indices.append(i)\n",
    "        collected_values.append(A[i])\n",
    "        i = next_idx[i]\n",
    "    else:\n",
    "        i = next_idx[i]\n",
    "print(\"Blocks collected (indices):\", collected_indices)\n",
    "print(\"Blocks collected (values):\", collected_values)"
   ]
  },
  {
   "cell_type": "code",
   "execution_count": null,
   "id": "b6ac89ea",
   "metadata": {},
   "outputs": [],
   "source": [
    "#Tea-Tree's\n",
    "\n",
    "A = [0, 0, 2, 4, 3, 3, 0, 2, 3, 6, 4]\n",
    "M = [0,0] \n",
    "\n",
    "def f(n):\n",
    "  if(n < 3):\n",
    "    return A[n]\n",
    "  else:\n",
    "    return max(f(n-1), f(n-3) + A[n])"
   ]
  },
  {
   "cell_type": "code",
   "execution_count": 3,
   "id": "18490021",
   "metadata": {},
   "outputs": [
    {
     "data": {
      "text/plain": [
       "11"
      ]
     },
     "execution_count": 3,
     "metadata": {},
     "output_type": "execute_result"
    }
   ],
   "source": [
    "f(len(A)-1)"
   ]
  },
  {
   "cell_type": "code",
   "execution_count": null,
   "id": "e4f94693",
   "metadata": {},
   "outputs": [],
   "source": []
  }
 ],
 "metadata": {
  "kernelspec": {
   "display_name": "Python 3",
   "language": "python",
   "name": "python3"
  },
  "language_info": {
   "codemirror_mode": {
    "name": "ipython",
    "version": 3
   },
   "file_extension": ".py",
   "mimetype": "text/x-python",
   "name": "python",
   "nbconvert_exporter": "python",
   "pygments_lexer": "ipython3",
   "version": "3.12.1"
  }
 },
 "nbformat": 4,
 "nbformat_minor": 5
}
