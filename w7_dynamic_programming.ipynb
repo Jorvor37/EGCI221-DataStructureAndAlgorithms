{
 "cells": [
  {
   "cell_type": "markdown",
   "id": "78ba71fa",
   "metadata": {},
   "source": [
    "\n",
    "# Optimal substructure\n",
    "\n",
    "means that the solution to a problem can be constructed from optimal solutions of its subproblems.\n",
    "\n",
    "# Overlapping substructure \n",
    "\n",
    "means that the problem can be broken down into subproblems which are reused several times."
   ]
  }
 ],
 "metadata": {
  "kernelspec": {
   "display_name": "Python 3",
   "language": "python",
   "name": "python3"
  },
  "language_info": {
   "codemirror_mode": {
    "name": "ipython",
    "version": 3
   },
   "file_extension": ".py",
   "mimetype": "text/x-python",
   "name": "python",
   "nbconvert_exporter": "python",
   "pygments_lexer": "ipython3",
   "version": "3.12.1"
  }
 },
 "nbformat": 4,
 "nbformat_minor": 5
}
