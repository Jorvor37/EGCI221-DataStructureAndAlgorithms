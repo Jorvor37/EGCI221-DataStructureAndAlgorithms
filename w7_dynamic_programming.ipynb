{
 "cells": [
  {
   "cell_type": "markdown",
   "id": "78ba71fa",
   "metadata": {},
   "source": [
    "\n",
    "# Optimal substructure\n",
    "\n",
    "means that the solution to a problem can be constructed from optimal solutions of its subproblems.\n",
    "\n",
    "# Overlapping substructure \n",
    "\n",
    "means that the problem can be broken down into subproblems which are reused several times."
   ]
  },
  {
   "cell_type": "code",
   "execution_count": null,
   "id": "ae4535ec",
   "metadata": {},
   "outputs": [],
   "source": [
    "M = [0, 1, 2] + [-1 for i in range(100)]\n",
    "\n",
    "\"\"\"\n",
    "Bottom up dynamic programming solution to the Fibonacci sequence.\n",
    "more efficient than the recursive solution.\n",
    "\"\"\"\n",
    "def f(n):\n",
    "    if n < 3:\n",
    "        return M[n]\n",
    "    for i in range(3, n + 1):\n",
    "        M[i] = M[i - 1] + M[i - 2]\n",
    "    return M[n]"
   ]
  },
  {
   "cell_type": "code",
   "execution_count": 12,
   "id": "125baa2a",
   "metadata": {},
   "outputs": [
    {
     "name": "stdout",
     "output_type": "stream",
     "text": [
      "Maximum score: 26\n"
     ]
    }
   ],
   "source": [
    "\"\"\"\n",
    "write a cookie run problem solution using dynamic programming.\n",
    "cookie run after it jump once we cannot jump again. have to wait for 2 blocks.\n",
    "write the solution to get maximum score.\n",
    "\"\"\"\n",
    "\n",
    "# random array to 100 arrays\n",
    "import random\n",
    "rand = random.randint(0, 100)\n",
    "#A = [0, 0] + [random.randint(0, rand) for i in range(98)] + [0]\n",
    "A = [0, 0, 7, 5, 3, 4, 6, 2, 1, 8, 9]\n",
    "print(A)\n",
    "\n",
    "def cookie_run(n):\n",
    "    # n is the index of the block we are on\n",
    "    if n < 2:\n",
    "        return A[n]\n",
    "    # Initialize the maximum score array\n",
    "    M = [0 for _ in range(n + 1)]\n",
    "    M[0] = A[0]\n",
    "    M[1] = A[1]\n",
    "    # Fill the maximum score array using dynamic programming\n",
    "    for i in range(2, n + 1):\n",
    "        # After a jump, must wait 2 blocks before next jump\n",
    "        # So, can either skip this block, or jump from i-2 (waited 2 blocks)\n",
    "        # or jump from i-3 (waited 2 blocks after previous jump)\n",
    "        take = 0\n",
    "        if i >= 2:\n",
    "            take = M[i - 2] + A[i]\n",
    "        if i >= 3:\n",
    "            take = max(take, M[i - 3] + A[i])\n",
    "        M[i] = max(M[i - 1], take)\n",
    "    return M[n]\n",
    "\n",
    "# test the cookie run function\n",
    "n = len(A) - 1\n",
    "print(\"Maximum score:\", cookie_run(n))\n"
   ]
  },
  {
   "cell_type": "code",
   "execution_count": null,
   "id": "c7d1e393",
   "metadata": {},
   "outputs": [],
   "source": []
  },
  {
   "cell_type": "markdown",
   "id": "17793354",
   "metadata": {},
   "source": [
    "### Collect from block[i], next allowed is block[i+3] or above\n",
    "\n",
    "After collecting from block[i], you can only collect from block[i+3] or above. The dynamic programming solution is updated accordingly."
   ]
  },
  {
   "cell_type": "code",
   "execution_count": 21,
   "id": "87a4c86c",
   "metadata": {},
   "outputs": [
    {
     "name": "stdout",
     "output_type": "stream",
     "text": [
      "Maximum sum collected: 1022\n"
     ]
    }
   ],
   "source": [
    "#A = [0, 0, 7, 5, 3, 4, 6, 2, 1, 8, 9]\n",
    "A = [0, 0] + [random.randint(0, rand) for i in range(98)]\n",
    "n = len(A)\n",
    "M = [0] * n\n",
    "next_idx = [-1] * n  # To track the next index chosen for the optimal path\n",
    "\n",
    "# M[i] = max sum we can collect starting at block i\n",
    "for i in range(n-1, 1, -1):\n",
    "    # If we take block i, next we can take from i+3 or above\n",
    "    take = A[i]\n",
    "    if i + 3 < n:\n",
    "        take += M[i+3]\n",
    "    # Or skip this block\n",
    "    skip = 0\n",
    "    if i + 1 < n:\n",
    "        skip = M[i+1]\n",
    "    if take >= skip:\n",
    "        M[i] = take\n",
    "        next_idx[i] = i+3 if i+3 < n else -1\n",
    "    else:\n",
    "        M[i] = skip\n",
    "        next_idx[i] = i+1 if i+1 < n else -1\n",
    "\n",
    "print(\"Maximum sum collected:\", M[2])"
   ]
  },
  {
   "cell_type": "code",
   "execution_count": 22,
   "id": "b6ac89ea",
   "metadata": {},
   "outputs": [
    {
     "name": "stdout",
     "output_type": "stream",
     "text": [
      "Blocks collected (indices): [4, 7, 10, 13, 16, 20, 23, 26, 29, 32, 35, 39, 43, 46, 50, 53, 57, 61, 64, 67, 70, 74, 77, 80, 83, 86, 89, 92, 95, 98]\n",
      "Blocks collected (values): [25, 36, 43, 40, 45, 42, 19, 42, 13, 36, 34, 30, 43, 43, 43, 39, 34, 40, 41, 28, 30, 37, 7, 26, 34, 42, 35, 39, 11, 45]\n"
     ]
    }
   ],
   "source": [
    "# Trace back the path\n",
    "collected_indices = []\n",
    "collected_values = []\n",
    "i = 2\n",
    "while i != -1 and i < n:\n",
    "    if next_idx[i] == i+3 or next_idx[i] == -1:\n",
    "        collected_indices.append(i)\n",
    "        collected_values.append(A[i])\n",
    "        i = next_idx[i]\n",
    "    else:\n",
    "        i = next_idx[i]\n",
    "print(\"Blocks collected (indices):\", collected_indices)\n",
    "print(\"Blocks collected (values):\", collected_values)"
   ]
  },
  {
   "cell_type": "code",
   "execution_count": null,
   "id": "60e867d4",
   "metadata": {},
   "outputs": [],
   "source": []
  }
 ],
 "metadata": {
  "kernelspec": {
   "display_name": "Python 3",
   "language": "python",
   "name": "python3"
  },
  "language_info": {
   "codemirror_mode": {
    "name": "ipython",
    "version": 3
   },
   "file_extension": ".py",
   "mimetype": "text/x-python",
   "name": "python",
   "nbconvert_exporter": "python",
   "pygments_lexer": "ipython3",
   "version": "3.12.1"
  }
 },
 "nbformat": 4,
 "nbformat_minor": 5
}
