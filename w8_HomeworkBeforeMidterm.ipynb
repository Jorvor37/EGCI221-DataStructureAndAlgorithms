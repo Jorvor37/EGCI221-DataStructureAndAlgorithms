{
 "cells": [
  {
   "cell_type": "raw",
   "id": "d45fb633",
   "metadata": {
    "vscode": {
     "languageId": "raw"
    }
   },
   "source": [
    "Describe the worst-case running-time function of the following algorithms:\n",
    "1: procedure Problem2a(n)\n",
    "2:      s := 0\n",
    "3:      for i := 0 to n do                      //O(n+1)\n",
    "4:          for j := 1 to i do                  //O(n) per i, O(n^2) total\n",
    "5:              for k = j to i + j do           //O(n) per j, O(n^3) total\n",
    "6:                  s := s + 1                  \n",
    "7:              end for\n",
    "8:          end for\n",
    "9:      end for\n",
    "10: end procedure\n",
    "\n",
    "\"\"\"\n",
    "The worse case running time of this algorithm will be O(n^3)\n",
    "\"\"\""
   ]
  },
  {
   "cell_type": "raw",
   "id": "a0c49731",
   "metadata": {
    "vscode": {
     "languageId": "raw"
    }
   },
   "source": [
    "1: procedure Problem2b(n)\n",
    "2:      i := 0                                  //O(1)\n",
    "3:      j := n                                  \n",
    "4:      s := 0                                  \n",
    "5:      while i < j do                          //O(n)\n",
    "6:          i := i + 2\n",
    "7:          j := j − 3\n",
    "8:          s := s + 1\n",
    "9:      end while\n",
    "10: end procedure\n",
    "\n",
    "\"\"\"\n",
    "the gap between i and j closes by 5 each time\n",
    "The worse case running time of this algorithm will be O(n)\n",
    "\"\"\""
   ]
  },
  {
   "cell_type": "raw",
   "id": "8e45efc5",
   "metadata": {
    "vscode": {
     "languageId": "raw"
    }
   },
   "source": [
    "1: procedure Problem2c(n)\n",
    "2:      if n ≤ 0 then return\n",
    "3:      end if\n",
    "4:      for i = 1 to n do           //O(n)\n",
    "5:          for j = 1 to n do       //O(n^2)\n",
    "6:              s := s + 1\n",
    "7:          end for\n",
    "8:      end for\n",
    "9:      for i = 1 to 4 do\n",
    "10:         Problem2c(n/4)          // recursive call no effect 4T(n/4)\n",
    "11:     end for\n",
    "12: end procedure\n",
    "\n",
    "\n",
    "\"\"\"\n",
    "The worse case running time of this algorithm will be O(n^2)\n",
    "\"\"\""
   ]
  },
  {
   "cell_type": "raw",
   "id": "1109308d",
   "metadata": {
    "vscode": {
     "languageId": "raw"
    }
   },
   "source": [
    "Given n arrays, each array contain n positive integers. Write an O(n^2 log n)\n",
    "algorithm to find the smallest n sums out of (n^n) possible sums that can be\n",
    "obtained by picking one positive integer from each of n arrays. For example,\n",
    "given three arrays as follows: [5, 1, 8] , [5, 2, 9] , and [6, 7, 10]. The smallest\n",
    "n sums of the given array is [9, 10, 12].\n",
    "\n",
    "procedure find_minimum_array(n)\n",
    "        for i = 0 to n              //O(n)\n",
    "            heap_sort(n)            //O(n log n) per i, O(n^2 log n) in total\n",
    "        end for\n",
    "\n",
    "end procedure"
   ]
  },
  {
   "cell_type": "raw",
   "id": "14580b7e",
   "metadata": {
    "vscode": {
     "languageId": "raw"
    }
   },
   "source": [
    "Write an algorithm to sort n integers in the range 0 to n^3 −1 in O (n) time.\n",
    "\n",
    "procedure radix_sort\n"
   ]
  }
 ],
 "metadata": {
  "kernelspec": {
   "display_name": "Python 3",
   "language": "python",
   "name": "python3"
  },
  "language_info": {
   "codemirror_mode": {
    "name": "ipython",
    "version": 3
   },
   "file_extension": ".py",
   "mimetype": "text/x-python",
   "name": "python",
   "nbconvert_exporter": "python",
   "pygments_lexer": "ipython3",
   "version": "3.12.1"
  }
 },
 "nbformat": 4,
 "nbformat_minor": 5
}
