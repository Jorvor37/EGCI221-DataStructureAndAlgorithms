{
 "cells": [
  {
   "cell_type": "markdown",
   "id": "122e958c",
   "metadata": {},
   "source": [
    "# Top Down Approch"
   ]
  },
  {
   "cell_type": "code",
   "execution_count": 9,
   "id": "713233a2",
   "metadata": {},
   "outputs": [
    {
     "name": "stdout",
     "output_type": "stream",
     "text": [
      "20\n"
     ]
    }
   ],
   "source": [
    "# Define a 2D array (matrix) for memoization\n",
    "memo = [[-1 for j in range(10)] for i in range(10)]  # 10x10 matrix, adjust size as needed\n",
    "\n",
    "def f(m, n):\n",
    "    if memo[m][n] != -1:\n",
    "        return memo[m][n]\n",
    "    if m == 0 or n == 0:\n",
    "        memo[m][n] = 1\n",
    "    else:\n",
    "        memo[m][n] = f(m-1, n) + f(m, n-1)\n",
    "    return memo[m][n]\n",
    "\n",
    "# Example usage\n",
    "print(f(3, 3))"
   ]
  },
  {
   "cell_type": "markdown",
   "id": "18c412a6",
   "metadata": {},
   "source": [
    "# Matrics\n",
    "\n",
    "In general $p_{i-1} * p_i$"
   ]
  },
  {
   "cell_type": "code",
   "execution_count": 10,
   "id": "ff155308",
   "metadata": {},
   "outputs": [
    {
     "name": "stdout",
     "output_type": "stream",
     "text": [
      "[0, 0, 0, 0, 0, 0]\n",
      "[0, 0, 0, 0, 0, 0]\n",
      "[0, 0, 0, 0, 0, 0]\n",
      "[0, 0, 0, 0, 0, 0]\n",
      "[0, 0, 0, 0, 0, 0]\n",
      "[0, 0, 0, 0, 0, 0]\n"
     ]
    }
   ],
   "source": [
    "C = [[0 for i in range(6)] for i in range(6)]\n",
    "\n",
    "def ncr(n,k):\n",
    "    if k == 0 or n == k:\n",
    "        C[n][k] = 1\n",
    "        return C[n][k]\n",
    "    elif C[n][k] != 0:\n",
    "        return C[n][k]\n",
    "    else:\n",
    "        return ncr(n-1, k-1) + ncr(n-1, k)\n",
    "    \n",
    "for i in C:\n",
    "    print(i)"
   ]
  },
  {
   "cell_type": "code",
   "execution_count": 11,
   "id": "371dcb0e",
   "metadata": {},
   "outputs": [
    {
     "name": "stdout",
     "output_type": "stream",
     "text": [
      "[58, 64]\n",
      "[139, 154]\n"
     ]
    }
   ],
   "source": [
    "\"\"\"\n",
    "A = R  * C1\n",
    "B = C1 * C\n",
    "\n",
    "#Basic matrices multiplication\n",
    "for i=1 to R:\n",
    "    for j=1 to C:\n",
    "        RESULT[i][j] = 0\n",
    "        for(k=1 to C1):\n",
    "            RESULT[i][j] += A[i][k] * B[k][j]   #is all the times that calculate in this line\n",
    "\n",
    "# total number of all multplication = R * C * C1\n",
    "\"\"\"\n",
    "\n",
    "def matrix_mult(A, B):\n",
    "    R = len(A)\n",
    "    C1 = len(A[0])\n",
    "    C = len(B[0])\n",
    "    RESULT = [[0 for j in range(C)] for i in range(R)]\n",
    "    \n",
    "    for i in range(R):\n",
    "        for j in range(C):\n",
    "            RESULT[i][j] = 0\n",
    "            for k in range(C1):\n",
    "                RESULT[i][j] += A[i][k] * B[k][j]\n",
    "    \n",
    "    return RESULT\n",
    "\n",
    "# Example matrices\n",
    "A = [\n",
    "    [1, 2, 3],\n",
    "    [4, 5, 6]\n",
    "]  # 2x3 matrix\n",
    "\n",
    "B = [\n",
    "    [7, 8],\n",
    "    [9, 10],\n",
    "    [11, 12]\n",
    "]  # 3x2 matrix\n",
    "\n",
    "# Test the matrix_mult function\n",
    "result = matrix_mult(A, B)\n",
    "for row in result:\n",
    "    print(row)\n"
   ]
  },
  {
   "cell_type": "code",
   "execution_count": 14,
   "id": "35ce0ea0",
   "metadata": {},
   "outputs": [
    {
     "name": "stdout",
     "output_type": "stream",
     "text": [
      "Minimum number of multiplications is: 15125\n"
     ]
    }
   ],
   "source": [
    "\"\"\"\n",
    "Problem solving steps\n",
    "1. Find the variable(s) that describe the problem's size.    # in some problem there maybe > 1 variable\n",
    "      v         v\n",
    "M1 x M2 x M3 x M4\n",
    "2. Find the action(s) that reduce the size of problem.\n",
    "3. Assume that you know the solution of sub-problem, use this solution to solve the original problem.\n",
    "\n",
    "pointer               i               j\n",
    "Suppose that we have M1, M2, M3, M4, M5 as the variables that describe the problem's size.\n",
    "T(1,5) = min{\n",
    "    T(1,1) + T(2,5),  # Number of multiplication between M1 and (M2 M3 M4 M5)\n",
    "    T(1,2) + T(3,5),  # Number of multiplication between (M1 M2) and (M3 M4 M5)\n",
    "    T(1,3) + T(4,5),  # Number of multiplication between (M1 M2 M3) and (M4 M5)\n",
    "    T(1,4) + T(5,5)   # Number of multiplication between (M1 M2 M3 M4) and M5\n",
    "}\n",
    "\n",
    "T(1,5) = min{\n",
    "                  # P[i-1] * P[i] * P[j] \n",
    "    T(1,1) + T(2,5) + P[0] * P[1] * P[5], \n",
    "    T(1,2) + T(3,5) + P[0] * P[2] * P[5],  \n",
    "    T(1,3) + T(4,5) + P[0] * P[3] * P[5],\n",
    "    T(1,4) + T(5,5) + P[0] * P[4] * P[5]\n",
    "\"\"\"\n",
    "\n",
    "def TD_matrix_chain(p, i, j, memo):\n",
    "    if i == j:\n",
    "        return 0\n",
    "    if memo[i][j] != -1:\n",
    "        return memo[i][j]\n",
    "    \n",
    "    min_cost = float('inf')\n",
    "    for k in range(i, j):\n",
    "        cost = TD_matrix_chain(p, i, k, memo) + TD_matrix_chain(p, k + 1, j, memo) + p[i - 1] * p[k] * p[j]\n",
    "        min_cost = min(min_cost, cost)\n",
    "    \n",
    "    memo[i][j] = min_cost\n",
    "    return min_cost\n",
    "\n",
    "#test the TD_matrix_chain function\n",
    "def matrix_chain_order(p):\n",
    "    n = len(p) - 1\n",
    "    memo = [[-1 for _ in range(n + 1)] for _ in range(n + 1)]\n",
    "    return TD_matrix_chain(p, 1, n, memo)\n",
    "# Example usage\n",
    "p = [30, 35, 15, 5, 10, 20, 25]  # Dimensions of matrices\n",
    "result = matrix_chain_order(p)\n",
    "print(\"Minimum number of multiplications is:\", result)"
   ]
  },
  {
   "cell_type": "markdown",
   "id": "155c54ef",
   "metadata": {},
   "source": [
    "# Knapscak Problem\n",
    "\n",
    "    # the problem it's looks like Skyrim mod Dynamic root https://www.youtube.com/watch?v=NEyR6w2JSyo\n",
    "\n",
    "    #have a list of looted itme each item have weight and value, but we cannot chose all value, we need to chose and maximize the value\n"
   ]
  },
  {
   "cell_type": "code",
   "execution_count": null,
   "id": "e07998b6",
   "metadata": {},
   "outputs": [],
   "source": [
    "\"\"\"\n",
    "i               1       2       3       4       5\n",
    "weight[i]       4       5       5       2       7\n",
    "value[i]        4       3       7       3       8\n",
    "\n",
    "binary knapsack problem (zero one knapsack)\n",
    "Problem solving steps\n",
    "1. Find the variable(s) that describe the problem's size.    # in some problem there maybe > 1 variable\n",
    "        1.1 Number of items (N)\n",
    "        1.2 Maximum weight capacity of the knapsack (W)\n",
    "2. Find the action(s) that reduce the size of problem.\n",
    "        action := pick or pass the item\n",
    "3. Assume that you know the solution of sub-problem, use this solution to solve the original problem.\n",
    "    if weight[n] <= W:                                                          //if the n-th item can be picked(weight)\n",
    "        f(n,W) = max{\n",
    "        f(n-1,W - weight[N]) + value[N]} if weight[N] <= W                      // pick the n-th item\n",
    "        f(n-1,W)    if weight[N] > W}                                           //skip the n-th item\n",
    "    else:\n",
    "        f(n-1,W)                                                                //skip the n-th item\n",
    "\"\"\"\n",
    "\n",
    "def TD_sack(i,j, weight, value):\n",
    "    if i == 0 or j == 0:\n",
    "        return 0\n",
    "    if weight[i] > j:\n",
    "        return TD_scak(i - 1, j)\n",
    "    else:\n",
    "        return max(TD_scak(i - 1, j), TD_scak(i - 1, j - weight[i]) + value[i])\n",
    "    \n",
    "\"\"\"\n",
    "i               1       2       3       4       5\n",
    "weight[i]       4       5       5       2       7\n",
    "value[i]        4       3       7       3       8\n",
    "\n",
    "# Example of memoization table for knapsack problem\n",
    "\n",
    "                                                                W\n",
    "                0       1       2       3       4       5       6       7       8       9       10        11        12        13\n",
    "        0       0       0       0       0       0       0       0       0       0       0        0         0         0         0\n",
    "        1       0       0       0       0       4       4       4       4       4       4        4         4         4         4\n",
    " i      2       0       0       0       0       4       4       4       4       4       7        7         7         7         7\n",
    "        3       0       0       7       7       7       7      10      10      10      11       11        11        11        11 \n",
    "        4       0       3       7       7       7       7      10      10      11      11       11        11        11        11\n",
    "        5       0       8       8       8       8       8      10      10      11      11       11        11        15        15\n",
    "        \n",
    "f(i, W) = max{f(i-1, W), f(i-1, W - weight[i]) + value[i]} if weight[i] <= W\n",
    "f(1, 4) = max{f(0, 4), f(0, 4-4) + 4} = max{0, 0 + 4} = 4\n",
    "f(2, 5) = max{f(1, 5-5) + 3, f(1, 5)} = max{f(1, 0) + 3, f(1, 5)} = max{0 + 3, 4} = 4\n",
    "f(2, 9) = max{f(1, 9-5) + 3, f(1, 9)} = max{f(1, 4) + 3, f(1, 9)} = max{4 + 3, 4} = 7\n",
    "f(3, 2) = max{f(2, 2), f(2, 2-5) + 7} = max{4, 0 + 7} = 7\n",
    "f(3, 4) = max{f(2, 4), f(2, 4-5) + 7} = max{4, 0 + 7} = 7\n",
    "f(3, 6) = max{f(2, 6), f(2, 6-5) + 7} = max{4, 3 + 7} = 10\n",
    "f(3, 9) = max{f(2, 9), f(2, 9-5) + 7} = max{7, 4 + 7} = 11\n",
    "f(4, 4) = max{f(3, 4), f(3, 4-2) + 3} = max{7, 0 + 3} = 7\n",
    "f(4, 6) = max{f(3, 6), f(3, 6-2) + 3} = max{10, 7 + 3} = 10\n",
    "f(4, 9) = max{f(3, 9), f(3, 9-2) + 3} = max{11, 7 + 3} = 11\n",
    "f(5, 9) = max{f(4, 9), f(4, 9-7) + 8} = max{11, 0 + 8} = 11\n",
    "f(5, 4) = max{f(4, 4), f(4, 4-7) + 8} = max{7, 0 + 8} = 8\n",
    "f(5, 9) = max{f(4, 9), f(4, 9-7) + 8} = max{11, 0 + 8} = 11\n",
    "f(5, 12) = max{f(4, 12), f(4, 12-7) + 8} = max{11, 7 + 8} = 15\n",
    "\n",
    "\"\"\"\n"
   ]
  },
  {
   "cell_type": "code",
   "execution_count": null,
   "id": "ab9287d3",
   "metadata": {},
   "outputs": [],
   "source": [
    "\"\"\"\n",
    "1. Find the variable(s) that describe the problem's size.    # in some problem there maybe > 1 variable\n",
    "        1.1 Length of sequence X\n",
    "        1.2 Length of sequence Y\n",
    "2. Find the action(s) that reduce the size of problem.\n",
    "        action := pick or pass\n",
    "3. Assume that you know the solution of sub-problem, use this solution to solve the original problem.\n",
    "\n",
    "                          v\n",
    "X: .......................b\n",
    "Y: ...................................c\n",
    "                                      ^\n",
    "\"\"\""
   ]
  }
 ],
 "metadata": {
  "kernelspec": {
   "display_name": "Python 3",
   "language": "python",
   "name": "python3"
  },
  "language_info": {
   "codemirror_mode": {
    "name": "ipython",
    "version": 3
   },
   "file_extension": ".py",
   "mimetype": "text/x-python",
   "name": "python",
   "nbconvert_exporter": "python",
   "pygments_lexer": "ipython3",
   "version": "3.12.1"
  }
 },
 "nbformat": 4,
 "nbformat_minor": 5
}
