{
 "cells": [
  {
   "cell_type": "markdown",
   "id": "01ec6703",
   "metadata": {},
   "source": [
    "###  Merge sort with O(n) Time Complexity (Best Case)\n",
    "sorted array"
   ]
  },
  {
   "cell_type": "code",
   "execution_count": null,
   "id": "b3ee7cd2",
   "metadata": {},
   "outputs": [],
   "source": [
    "\"\"\"\n",
    "Time Complexity: O(n) when the array is already sorted, otherwise O(n log n).\n",
    "\"\"\"\n",
    "def merge_sort(arr):\n",
    "    if len(arr) <= 1:\n",
    "        return arr\n",
    "    \n",
    "    if is_sorted(arr):  # Check if the array is already sorted\n",
    "        return arr\n",
    "\n",
    "    mid = len(arr) // 2\n",
    "    left = merge_sort(arr[:mid])\n",
    "    right = merge_sort(arr[mid:])\n",
    "    return merge(left, right)\n",
    "\n",
    "def is_sorted(arr):\n",
    "    for i in range(len(arr) - 1):\n",
    "        if arr[i] > arr[i + 1]:\n",
    "            return False\n",
    "    return True\n",
    "\n",
    "def merge(left, right):\n",
    "    result = []\n",
    "    i = j = 0\n",
    "    while i < len(left) and j < len(right):\n",
    "        if left[i] < right[j]:\n",
    "            result.append(left[i])\n",
    "            i += 1\n",
    "        else:\n",
    "            result.append(right[j])\n",
    "            j += 1\n",
    "    result.extend(left[i:])\n",
    "    result.extend(right[j:])\n",
    "    return result"
   ]
  },
  {
   "cell_type": "markdown",
   "id": "04a0296f",
   "metadata": {},
   "source": [
    "### Merge sort with O(n log n) Time Complexity (Average Case)"
   ]
  },
  {
   "cell_type": "code",
   "execution_count": null,
   "id": "35016f1c",
   "metadata": {},
   "outputs": [],
   "source": [
    "\"\"\"\n",
    "Time Complexity: O(n log n) (Best, Average, and Worst Case).\n",
    "\"\"\"\n",
    "def merge_sort(arr):\n",
    "    if len(arr) <= 1:\n",
    "        return arr\n",
    "    \n",
    "    mid = len(arr) // 2\n",
    "    left = merge_sort(arr[:mid])\n",
    "    right = merge_sort(arr[mid:])\n",
    "    return merge(left, right)\n",
    "\n",
    "def merge(left, right):\n",
    "    result = []\n",
    "    i = j = 0\n",
    "    while i < len(left) and j < len(right):\n",
    "        if left[i] < right[j]:\n",
    "            result.append(left[i])\n",
    "            i += 1\n",
    "        else:\n",
    "            result.append(right[j])\n",
    "            j += 1\n",
    "    result.extend(left[i:])\n",
    "    result.extend(right[j:])\n",
    "    return result\n"
   ]
  },
  {
   "cell_type": "markdown",
   "id": "45d1c9ac",
   "metadata": {},
   "source": [
    "### Merge sort with O(n² log n) Time Complexity (unusual)\n",
    "The algorithm is looks like Merge Sort but performs worse."
   ]
  },
  {
   "cell_type": "code",
   "execution_count": null,
   "id": "9984f5d0",
   "metadata": {},
   "outputs": [],
   "source": [
    "\"\"\"\n",
    "Time Complexity: O(n²) (due to the nested loops in merging).\n",
    "\"\"\"\n",
    "def merge_sort_bad(arr):\n",
    "    if len(arr) <= 1:\n",
    "        return arr\n",
    "    \n",
    "    mid = len(arr) // 2\n",
    "    left = merge_sort_bad(arr[:mid])\n",
    "    right = merge_sort_bad(arr[mid:])\n",
    "    return inefficient_merge(left, right)\n",
    "\n",
    "def inefficient_merge(left, right):\n",
    "    result = []\n",
    "    # Simulating O(n^2) by inefficiently merging\n",
    "    for i in range(len(left)):\n",
    "        for j in range(len(right)):\n",
    "            if left[i] < right[j]:\n",
    "                result.append(left[i])\n",
    "    result.extend(right)\n",
    "    return result\n"
   ]
  },
  {
   "cell_type": "markdown",
   "id": "ebcd7fd4",
   "metadata": {},
   "source": [
    "### Merge sort with O(n² log n) Time Complexity (unusual)\n",
    "combine inefficient merging with some additional complexity"
   ]
  },
  {
   "cell_type": "code",
   "execution_count": null,
   "id": "d19890c3",
   "metadata": {},
   "outputs": [],
   "source": [
    "def merge_sort_extra_bad(arr):\n",
    "    if len(arr) <= 1:\n",
    "        return arr\n",
    "    \n",
    "    mid = len(arr) // 2\n",
    "    left = merge_sort_extra_bad(arr[:mid])\n",
    "    right = merge_sort_extra_bad(arr[mid:])\n",
    "    return inefficient_merge_with_extra(left, right)\n",
    "\n",
    "def inefficient_merge_with_extra(left, right):\n",
    "    result = []\n",
    "    # O(n^2) merge\n",
    "    for i in range(len(left)):\n",
    "        for j in range(len(right)):\n",
    "            if left[i] < right[j]:\n",
    "                result.append(left[i])\n",
    "    # Extra recursive calls to introduce n log n overhead\n",
    "    for _ in range(len(result)):  # Add extra complexity\n",
    "        pass\n",
    "    result.extend(right)\n",
    "    return result\n"
   ]
  }
 ],
 "metadata": {
  "language_info": {
   "name": "python"
  }
 },
 "nbformat": 4,
 "nbformat_minor": 5
}
