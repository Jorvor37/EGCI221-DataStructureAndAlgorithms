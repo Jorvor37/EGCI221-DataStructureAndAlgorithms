{
 "cells": [
  {
   "cell_type": "markdown",
   "id": "9ae3d9c3",
   "metadata": {},
   "source": [
    "# Greedy-choice property\n",
    "\n",
    "we are finding the algorithm that give out the best solution for all n.\n",
    "\n",
    "---\n",
    "\n",
    "### Greedy Stays Ahead Arguments\n",
    "\n",
    "the diffrent from exchange is Stays Ahead needed to define measurement to evaluate the quality of result\n",
    "\n",
    "1. Define cost function, just like less cost funtion is more optimal, it's dependa on your implementation\n",
    "\n",
    "2. Define your Measure\n",
    "\n",
    "---"
   ]
  },
  {
   "cell_type": "markdown",
   "id": "3e6fea2f",
   "metadata": {},
   "source": [
    "### Exchange Arguments\n",
    "\n",
    "like tree, \n",
    "\n",
    "1. define the solution: $X$ is the result from greedy solution, $X*$ is the optimal choice [Tips: use data structure that easy]\n",
    "\n",
    "2. Compare solution: we need to show that $X$ &ne; $X*$, so $X$ is not optimal\n",
    "\n",
    "3. Exchange peices: Exchange that is differ, we get something that is best of the best, so our greedy choice is invalid. The contradiction appear.\n",
    "\n",
    "4. Iterate: show that our optimal solution is valid, by not exceed any condition."
   ]
  },
  {
   "cell_type": "markdown",
   "id": "066debf3",
   "metadata": {},
   "source": [
    "we have activity from {$a_1, a_2, ..., a_n$} of n proposed activities that wish to use the same resources\n",
    "\n",
    "Only one activity can use the resource at a time. Example, the time is cannot overlap, as if date from 8-9 can date from 9-12 is valid.\n",
    "\n",
    "Each activity have diffrent start time\n",
    "\n",
    "    i   |   1   2   3   4   5   6   7   8   9   10  11 \n",
    "    s   |   1   3   0   5   3   5   6   8   8   2   12\n",
    "    f   |   4   5   6   7   9   9   10  11  12  14  16\n",
    "\n"
   ]
  },
  {
   "cell_type": "markdown",
   "id": "4fbba015",
   "metadata": {},
   "source": [
    "Let $S_{ij}$ be the subset of activities in $S$ that can start after activity\n",
    "ai finishes and finish before activity $aj$ starts. \n",
    "\n",
    "Then $S = S_{0,n+1}$, and 0 $≤ i, j ≤ n + 1$.\n",
    "\n",
    "Let $A_{ij}$ be an optimal solution of $S_{ij}$ , and let $c [i, j]$ be the number\n",
    "of activities in a maximum-size subset of mutually compatible\n",
    "activities in $S_{ij}$ ."
   ]
  },
  {
   "cell_type": "code",
   "execution_count": 1,
   "id": "a2a1e4e5",
   "metadata": {},
   "outputs": [
    {
     "data": {
      "text/plain": [
       "'\\nwe have: a1,a2,a3,a4,a5\\nif we select a1: a4,a5\\nif we select a2: a3,a4,a5\\nif we select a3: a1,a2,a4,a5      #Greedy choice, earliest finish time is the best\\n\\nevery selection we simplify the solution\\n'"
      ]
     },
     "execution_count": 1,
     "metadata": {},
     "output_type": "execute_result"
    }
   ],
   "source": [
    "\"\"\"\n",
    "we have: a1,a2,a3,a4,a5\n",
    "if we select a1: a4,a5\n",
    "if we select a2: a3,a4,a5\n",
    "if we select a3: a1,a2,a4,a5      #Greedy choice, earliest finish time is the best\n",
    "\n",
    "every selection we simplify the solution\n",
    "\"\"\""
   ]
  },
  {
   "cell_type": "markdown",
   "id": "a8336841",
   "metadata": {},
   "source": [
    "1. define the solution: $X$ is the result from greedy solution, $X*$ is the optimal choice [Tips: use data structure that easy]\n",
    "\n",
    "set $X$, and we assume that $X*$ is the optimal one\n",
    "\n",
    "2. Compare solution: we need to show that $X$ &ne; $X*$, so $X$ is not optimal\n",
    "\n",
    "3. Exchange peices: Exchange that is differ, we get something that is best of the best, so our greedy choice is invalid. The contradiction appear.\n",
    "\n",
    "exchange the "
   ]
  },
  {
   "cell_type": "markdown",
   "id": "37908eec",
   "metadata": {},
   "source": [
    "Suppose that $A_{ij}$ is the solution from the greedy choice. Assume, for the sake of the contradiction, that $A_{ij}$ is not optimal. Then there exists another optimal solution $A_{ij}$ for which $A_{ij}$ &ne; $A_{ij}$. Formally, let $A_{ij}$ is a maximum-size subset of mutually compatible activity of $S_{ij}$.\n",
    "\n",
    "We denote that the first activity in $A*_{ij}$ as $a_k$, that is $A*_{ij}$ = {$a_k,...$}. It's follow that $a_k$ is subset of $S_{ij}$. Suppose that $a_m$ is subset of $S_{ij}$ is the activity that has the earliest finish time.\n",
    "\n",
    "If $a_k$ &ne; $a_m$, we construct another solution $A**_{ij}$ = $A*_{ij}$ - {$a_k$} union {$a_m$}. The activitt in $A**_{ij}$ is valid since all activities are disjoint and $f_m < f_k$. It's follow that |$A**_{ij}$| = |$A*_{ij}$| since we subtract {$a_k$} and one activity {$a_m$}. Therefore, this exchange gives a diffrent optimal solution and does not chage the cose\n",
    "\n",
    "**Therefore, this is the valid greedy choice**"
   ]
  },
  {
   "cell_type": "markdown",
   "id": "07611aa4",
   "metadata": {},
   "source": []
  }
 ],
 "metadata": {
  "kernelspec": {
   "display_name": "Python 3",
   "language": "python",
   "name": "python3"
  },
  "language_info": {
   "codemirror_mode": {
    "name": "ipython",
    "version": 3
   },
   "file_extension": ".py",
   "mimetype": "text/x-python",
   "name": "python",
   "nbconvert_exporter": "python",
   "pygments_lexer": "ipython3",
   "version": "3.12.1"
  }
 },
 "nbformat": 4,
 "nbformat_minor": 5
}
