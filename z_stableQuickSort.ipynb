{
 "cells": [
  {
   "cell_type": "raw",
   "id": "c613f6db",
   "metadata": {
    "vscode": {
     "languageId": "raw"
    }
   },
   "source": [
    "StableQuicksort(A):\n",
    "    if length(A) ≤ 1:\n",
    "        return A\n",
    "\n",
    "    pivot := choose a pivot element from A\n",
    "\n",
    "    // Divide the array into three parts\n",
    "    L := []   // elements with key < pivot.key\n",
    "    E := []   // elements with key == pivot.key (in original order)\n",
    "    G := []   // elements with key > pivot.key\n",
    "\n",
    "    for each element x in A:\n",
    "        if x.key < pivot.key:\n",
    "            append x to L\n",
    "        else if x.key == pivot.key:\n",
    "            append x to E\n",
    "        else:\n",
    "            append x to G\n",
    "\n",
    "    // Recursively sort the less-than and greater-than partitions\n",
    "    L_sorted := StableQuicksort(L)\n",
    "    G_sorted := StableQuicksort(G)\n",
    "\n",
    "    // Concatenate results and return\n",
    "    return L_sorted + E + G_sorted"
   ]
  }
 ],
 "metadata": {
  "language_info": {
   "name": "python"
  }
 },
 "nbformat": 4,
 "nbformat_minor": 5
}
