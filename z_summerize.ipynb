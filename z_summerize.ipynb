{
 "cells": [
  {
   "cell_type": "markdown",
   "id": "37a02524",
   "metadata": {},
   "source": [
    "# Recursion \n",
    "\n",
    "### 🔹 What is Recursion?\n",
    "\n",
    "Recursion is when a method calls itself to solve a smaller version of the problem.\n",
    "\n",
    "Key Components:\n",
    "\n",
    "Base Case: When to stop recursion.\n",
    "\n",
    "Recursive Case: Calls itself with modified input.\n",
    "\n",
    "### ⚠️ Common Pitfalls:\n",
    "\n",
    "Missing base case → infinite recursion\n",
    "\n",
    "Not reducing the problem size"
   ]
  },
  {
   "cell_type": "code",
   "execution_count": null,
   "id": "c7d5ae96",
   "metadata": {},
   "outputs": [],
   "source": [
    "def factorial(n):\n",
    "    if n==0:    #base case\n",
    "        return 1\n",
    "    else:        #recursive case\n",
    "        return n * factorial(n-1)\n",
    "    \n",
    "def fibonacci(n):\n",
    "    if n >= 0:\n",
    "        if n == 0 or n == 1:\n",
    "            return 1\n",
    "        else:\n",
    "            return factorial(n-1) + factorial(n-2)\n",
    "    else:\n",
    "        print(\"negative number cannot be factorial\")\n",
    "\n",
    "#Iterative version [not recursive]\n",
    "def factirotal_iterative(n):\n",
    "    result = 1\n",
    "    for i in range(2, n + 1):\n",
    "        result *= i\n",
    "    return result\n",
    "\n",
    "def fibonacci_iterative(n):\n",
    "    if n < 0:\n",
    "        print(\"negative number cannot be factorial\")\n",
    "        return None\n",
    "    elif n == 0 or n == 1:\n",
    "        return 1\n",
    "    else:\n",
    "        a, b = 1, 1\n",
    "        for _ in range(2, n + 1):\n",
    "            a, b = b, a + b\n",
    "        return b"
   ]
  },
  {
   "cell_type": "markdown",
   "id": "3922e1fd",
   "metadata": {},
   "source": [
    "# GCD [Greate Common Divisor]"
   ]
  },
  {
   "cell_type": "code",
   "execution_count": 1,
   "id": "f2af8292",
   "metadata": {},
   "outputs": [],
   "source": [
    "\"\"\"\n",
    "gcd(252, 105) → gcd(105, 252 % 105) = gcd(105, 42)\n",
    "gcd(105, 42)  → gcd(42, 105 % 42)  = gcd(42, 21)\n",
    "gcd(42, 21)   → gcd(21, 42 % 21)   = gcd(21, 0)\n",
    "→ GCD = 21\n",
    "\"\"\"\n",
    "\n",
    "#recursive version\n",
    "def gcd(a, b):\n",
    "    if b == 0:\n",
    "        return a\n",
    "    else:\n",
    "        return gcd(b, a % b)\n",
    "\n",
    "#iterative version\n",
    "def gcd_iterative(a, b):\n",
    "    while b != 0:\n",
    "        a, b = b, a % b"
   ]
  },
  {
   "cell_type": "markdown",
   "id": "b7d75d79",
   "metadata": {},
   "source": [
    "# Tower Of Hanoi\n",
    "\n",
    "Moveing all disk from A to C using B"
   ]
  },
  {
   "cell_type": "code",
   "execution_count": 2,
   "id": "5a307c57",
   "metadata": {},
   "outputs": [
    {
     "name": "stdout",
     "output_type": "stream",
     "text": [
      "Min moves: 15\n",
      "Move plate 1 from A to B\n",
      "Move plate 2 from A to C\n",
      "Move plate 1 from C to A\n",
      "Move plate 3 from A to B\n",
      "Move plate 1 from B to C\n",
      "Move plate 2 from B to A\n",
      "Move plate 1 from A to B\n",
      "Move plate 4 from A to C\n",
      "Move plate 1 from C to A\n",
      "Move plate 2 from C to B\n",
      "Move plate 1 from B to C\n",
      "Move plate 3 from C to A\n",
      "Move plate 1 from A to B\n",
      "Move plate 2 from A to C\n",
      "Move plate 1 from C to A\n"
     ]
    }
   ],
   "source": [
    "\"\"\"\n",
    "Problem solving steps\n",
    "1. Find the variable(s) that describe the problem's size.    # in some problem there maybe > 1 variable\n",
    "        number of disks in tower A [initial tower].\n",
    "2. Find the action(s) that reduce the size of problem.\n",
    "        Move the top disk from tower A to tower C [final tower] using tower B [auxiliary tower].\n",
    "3. Assume that you know the solution of sub-problem, use this solution to solve the original problem.\n",
    "        Move the top disk from tower A to tower C [final tower] using tower B [auxiliary tower].\n",
    "\"\"\"\n",
    "\n",
    "def hanoi_min_moves(n):\n",
    "    if n == 1:\n",
    "        return 1\n",
    "    else:\n",
    "        return 2 * hanoi_min_moves(n - 1) + 1\n",
    "\n",
    "def hanoi(n, src, dst, tmp):\n",
    "    if n >= 1:\n",
    "        hanoi(n-1, src, tmp, dst)\n",
    "        print(\"Move plate %d from %c to %c\"%(n, src, tmp))\n",
    "        hanoi(n-1, tmp, dst, src)\n",
    "\n",
    "# test case\n",
    "print(\"Min moves:\", hanoi_min_moves(4))\n",
    "hanoi(4, 'A', 'B', 'C')"
   ]
  },
  {
   "cell_type": "code",
   "execution_count": null,
   "id": "93379ccd",
   "metadata": {},
   "outputs": [],
   "source": []
  }
 ],
 "metadata": {
  "kernelspec": {
   "display_name": "Python 3",
   "language": "python",
   "name": "python3"
  },
  "language_info": {
   "codemirror_mode": {
    "name": "ipython",
    "version": 3
   },
   "file_extension": ".py",
   "mimetype": "text/x-python",
   "name": "python",
   "nbconvert_exporter": "python",
   "pygments_lexer": "ipython3",
   "version": "3.12.1"
  }
 },
 "nbformat": 4,
 "nbformat_minor": 5
}
