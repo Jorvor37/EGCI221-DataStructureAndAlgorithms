{
 "cells": [
  {
   "cell_type": "markdown",
   "id": "37a02524",
   "metadata": {},
   "source": [
    "# Recursion \n",
    "\n",
    "### What is Recursion?\n",
    "\n",
    "Recursion is when a method calls itself to solve a smaller version of the problem.\n",
    "\n",
    "Key Components:\n",
    "\n",
    "Base Case: When to stop recursion.\n",
    "\n",
    "Recursive Case: Calls itself with modified input.\n",
    "\n",
    "### Common Pitfalls:\n",
    "\n",
    "Missing base case → infinite recursion\n",
    "\n",
    "Not reducing the problem size"
   ]
  },
  {
   "cell_type": "code",
   "execution_count": null,
   "id": "c7d5ae96",
   "metadata": {},
   "outputs": [],
   "source": [
    "def factorial(n):\n",
    "    if n==0:    #base case\n",
    "        return 1\n",
    "    else:        #recursive case\n",
    "        return n * factorial(n-1)\n",
    "    \n",
    "def fibonacci(n):\n",
    "    if n >= 0:\n",
    "        if n == 0 or n == 1:\n",
    "            return 1\n",
    "        else:\n",
    "            return factorial(n-1) + factorial(n-2)\n",
    "    else:\n",
    "        print(\"negative number cannot be factorial\")\n",
    "\n",
    "#Iterative version [not recursive]\n",
    "def factirotal_iterative(n):\n",
    "    result = 1\n",
    "    for i in range(2, n + 1):\n",
    "        result *= i\n",
    "    return result\n",
    "\n",
    "def fibonacci_iterative(n):\n",
    "    if n < 0:\n",
    "        print(\"negative number cannot be factorial\")\n",
    "        return None\n",
    "    elif n == 0 or n == 1:\n",
    "        return 1\n",
    "    else:\n",
    "        a, b = 1, 1\n",
    "        for _ in range(2, n + 1):\n",
    "            a, b = b, a + b\n",
    "        return b\n",
    "    \n",
    "def fac(n):\n",
    "    if n == 0:\n",
    "        return 1\n",
    "    else:\n",
    "        return n * fac(n-1)\n",
    "    \n",
    "def fibo(n):\n",
    "    if n <= 1:\n",
    "        return n\n",
    "    else:\n",
    "        return fibo(n-1) + fibo(n-2)"
   ]
  },
  {
   "cell_type": "markdown",
   "id": "3922e1fd",
   "metadata": {},
   "source": [
    "# GCD [Greate Common Divisor]"
   ]
  },
  {
   "cell_type": "code",
   "execution_count": null,
   "id": "f2af8292",
   "metadata": {},
   "outputs": [],
   "source": [
    "\"\"\"\n",
    "gcd(252, 105) → gcd(105, 252 % 105) = gcd(105, 42)\n",
    "gcd(105, 42)  → gcd(42, 105 % 42)  = gcd(42, 21)\n",
    "gcd(42, 21)   → gcd(21, 42 % 21)   = gcd(21, 0)\n",
    "→ GCD = 21\n",
    "\"\"\"\n",
    "\n",
    "#recursive version\n",
    "def gcd(a, b):\n",
    "    if b == 0:\n",
    "        return a\n",
    "    else:\n",
    "        return gcd(b, a % b)\n",
    "\n",
    "#iterative version\n",
    "def gcd_iterative(a, b):\n",
    "    while b != 0:\n",
    "        a, b = b, a % b\n",
    "\n",
    "def gcd_j(a, b):\n",
    "    if b == 0:\n",
    "        return a\n",
    "    else:\n",
    "        return gcd_j(b, a % b)"
   ]
  },
  {
   "cell_type": "markdown",
   "id": "b7d75d79",
   "metadata": {},
   "source": [
    "# Tower Of Hanoi\n",
    "\n",
    "Moveing all disk from A to C using B"
   ]
  },
  {
   "cell_type": "code",
   "execution_count": null,
   "id": "5a307c57",
   "metadata": {},
   "outputs": [
    {
     "name": "stdout",
     "output_type": "stream",
     "text": [
      "Min moves: 15\n",
      "Move plate 1 from A to B\n",
      "Move plate 2 from A to C\n",
      "Move plate 1 from C to A\n",
      "Move plate 3 from A to B\n",
      "Move plate 1 from B to C\n",
      "Move plate 2 from B to A\n",
      "Move plate 1 from A to B\n",
      "Move plate 4 from A to C\n",
      "Move plate 1 from C to A\n",
      "Move plate 2 from C to B\n",
      "Move plate 1 from B to C\n",
      "Move plate 3 from C to A\n",
      "Move plate 1 from A to B\n",
      "Move plate 2 from A to C\n",
      "Move plate 1 from C to A\n"
     ]
    }
   ],
   "source": [
    "\"\"\"\n",
    "Problem solving steps\n",
    "1. Find the variable(s) that describe the problem's size.    # in some problem there maybe > 1 variable\n",
    "        number of disks in tower A [initial tower].\n",
    "2. Find the action(s) that reduce the size of problem.\n",
    "        Move the top disk from tower A to tower C [final tower] using tower B [auxiliary tower].\n",
    "3. Assume that you know the solution of sub-problem, use this solution to solve the original problem.\n",
    "        Move the top disk from tower A to tower C [final tower] using tower B [auxiliary tower].\n",
    "\"\"\"\n",
    "\n",
    "def hanoi_min_moves(n):\n",
    "    if n == 1:\n",
    "        return 1\n",
    "    else:\n",
    "        return 2 * hanoi_min_moves(n - 1) + 1\n",
    "\n",
    "\n",
    "def hmm(n):\n",
    "    \"\"\"\n",
    "    Move n-1 disks to the helper peg → hmm(n - 1) moves\n",
    "    Move the largest disk to destination → 1 move\n",
    "    Move the n-1 disks from helper peg to destination peg → hmm(n - 1) moves again\n",
    "    \"\"\"\n",
    "    if n == 1:\n",
    "        return 1\n",
    "    else:\n",
    "        return 2 * hmm(n-1) + 1\n",
    "\n",
    "def hanoi(n, src, dst, tmp):\n",
    "    if n >= 1:\n",
    "        hanoi(n-1, src, tmp, dst)\n",
    "        print(\"Move plate %d from %c to %c\"%(n, src, tmp))\n",
    "        hanoi(n-1, tmp, dst, src)\n",
    "\n",
    "# test case\n",
    "print(\"Min moves:\", hanoi_min_moves(4))\n",
    "hanoi(4, 'A', 'B', 'C')"
   ]
  },
  {
   "cell_type": "markdown",
   "id": "6e2f6443",
   "metadata": {},
   "source": [
    "# Array Understanding"
   ]
  },
  {
   "cell_type": "markdown",
   "id": "c4adf53f",
   "metadata": {},
   "source": [
    "## Inplace Operation\n",
    "\n",
    "techinique allow to change the datac without adding aditional space"
   ]
  },
  {
   "cell_type": "code",
   "execution_count": 7,
   "id": "b0b5ec8c",
   "metadata": {},
   "outputs": [
    {
     "name": "stdout",
     "output_type": "stream",
     "text": [
      "[10, 20, 30, 40, 50]\n",
      "[50, 40, 30, 20, 10]\n"
     ]
    }
   ],
   "source": [
    "# Reverse Array In-Place\n",
    "def reverse(arr):\n",
    "    left = 0\n",
    "    right = len(arr) - 1\n",
    "\n",
    "    while left < right:\n",
    "        # Swap elements at left and right indices\n",
    "        temp = arr[left]\n",
    "        arr[left] = arr[right]\n",
    "        arr[right] = temp\n",
    "\n",
    "        left += 1\n",
    "        right -= 1\n",
    "\n",
    "n = [10, 20, 30, 40, 50]\n",
    "print(n)\n",
    "reverse(n)\n",
    "print(n)"
   ]
  },
  {
   "cell_type": "markdown",
   "id": "534ca4f6",
   "metadata": {},
   "source": [
    "## Sliding Window\n",
    "\n",
    "The main idea is to use the the result of previous window to do the computation for the next window\n",
    "\n",
    "Efficiently find something (like max/min/sum/count) in a contiguous subarray using a \"window\" of fixed or dynamic size."
   ]
  },
  {
   "cell_type": "code",
   "execution_count": null,
   "id": "1069bcf1",
   "metadata": {},
   "outputs": [
    {
     "name": "stdout",
     "output_type": "stream",
     "text": [
      "28\n"
     ]
    }
   ],
   "source": [
    "# Time complexity is O(n) from for loop i in range(n - k):\n",
    "\n",
    "\n",
    "def maxSum(arr, k):\n",
    "    n = len(arr)\n",
    "\n",
    "    # n must be greater than k\n",
    "    if n <= k:\n",
    "        print(\"Invalid\")\n",
    "        return -1\n",
    "\n",
    "    # Compute sum of first window of size k\n",
    "    window_sum = sum(arr[:k])\n",
    "\n",
    "    # first sum available\n",
    "    max_sum = window_sum\n",
    "\n",
    "    # Compute the sums of remaining windows by\n",
    "    # removing first element of previous\n",
    "    # window and adding last element of\n",
    "    # the current window.\n",
    "    for i in range(n - k):\n",
    "        window_sum = window_sum - arr[i] + arr[i + k]\n",
    "        max_sum = max(window_sum, max_sum)\n",
    "\n",
    "    return max_sum\n",
    "\n",
    "\n",
    "# Driver code\n",
    "arr = [1, 4, 2, 20, 2, 3, 1, 0, 20]\n",
    "k = 4\n",
    "print(maxSum(arr, k))"
   ]
  },
  {
   "cell_type": "markdown",
   "id": "f8e9b854",
   "metadata": {},
   "source": [
    "## Prefix Sum\n",
    "\n",
    "Given an array $arr[]$ of size $n$, the task is to find the prefix sum of the array. A prefix sum array is another array $prefixSum[]$ of the same size, such that $prefixSum[i]$ is $arr[0] + arr[1] + arr[2] . . . arr[i]$."
   ]
  },
  {
   "cell_type": "raw",
   "id": "5655e255",
   "metadata": {
    "vscode": {
     "languageId": "raw"
    }
   },
   "source": [
    "Example:\n",
    "Input: arr[] = [10, 20, 10, 5, 15]\n",
    "Output: 10 30 40 45 60\n",
    "Explanation: For each index i, add all the elements from 0 to i:\n",
    "prefixSum[0] = 10, \n",
    "prefixSum[1] = 10 + 20 = 30, \n",
    "prefixSum[2] = 10 + 20 + 10 = 40 and so on.\n",
    "\n",
    "Input: arr[] = [30, 10, 10, 5, 50]\n",
    "Output: 30 40 50 55 105\n",
    "Explanation: For each index i, add all the elements from 0 to i:\n",
    "prefixSum[0] = 30, \n",
    "prefixSum[1] = 30 + 10 = 40,\n",
    "prefixSum[2] = 30 + 10+ 10 = 50 and so on."
   ]
  },
  {
   "cell_type": "code",
   "execution_count": null,
   "id": "66258b12",
   "metadata": {},
   "outputs": [
    {
     "name": "stdout",
     "output_type": "stream",
     "text": [
      "[10, 30, 40, 45, 60]\n",
      "[30, 40, 50, 55, 105]\n"
     ]
    }
   ],
   "source": [
    "# Total time complexity is O(n) from for loop i in range n\n",
    "def prefixSum(arr):\n",
    "    n = len(arr)\n",
    "    prefixArr = [0] * n\n",
    "    for i in range(n):\n",
    "        if i == 0:\n",
    "            prefixArr[i] = arr[0]\n",
    "        else:\n",
    "            prefixArr[i] = prefixArr[i-1] + arr[i]\n",
    "    return prefixArr\n",
    "\n",
    "arr = [10, 20, 10, 5, 15]\n",
    "print(prefixSum(arr))\n",
    "arr = [30, 10, 10, 5, 50]\n",
    "print(prefixSum(arr))"
   ]
  },
  {
   "cell_type": "markdown",
   "id": "a5237509",
   "metadata": {},
   "source": [
    "## Implementation"
   ]
  },
  {
   "cell_type": "markdown",
   "id": "f2da9e52",
   "metadata": {},
   "source": [
    "### Two Sum\n",
    "\n",
    "Try to find the sum of two number to get the target result\n",
    "\n",
    "    nums = [2, 7, 11, 15]\n",
    "    target = 9\n",
    "    we choose 2 and 7 from this array\n"
   ]
  },
  {
   "cell_type": "code",
   "execution_count": 1,
   "id": "591e8394",
   "metadata": {},
   "outputs": [
    {
     "name": "stdout",
     "output_type": "stream",
     "text": [
      "true\n"
     ]
    }
   ],
   "source": [
    "def twoSum(arr, target):\n",
    "  \n",
    "    # Create a set to store the elements\n",
    "    s = set()\n",
    "\n",
    "    for num in arr:\n",
    "      \n",
    "        # Calculate the complement that added to\n",
    "        # num, equals the target\n",
    "        complement = target - num\n",
    "\n",
    "        # Check if the complement exists in the set\n",
    "        if complement in s:\n",
    "            return True\n",
    "\n",
    "        # Add the current element to the set\n",
    "        s.add(num)\n",
    "\n",
    "    # If no pair is found\n",
    "    return False\n",
    "\n",
    "if __name__ == \"__main__\":\n",
    "    arr = [0, -1, 2, -3, 1]\n",
    "    target = -2\n",
    "    if twoSum(arr, target):\n",
    "        print(\"true\")\n",
    "    else:\n",
    "        print(\"false\")"
   ]
  },
  {
   "cell_type": "markdown",
   "id": "39881e02",
   "metadata": {},
   "source": [
    "# Linked Lists\n",
    "\n",
    "### 1. Singly Linked List\n",
    "• Each node points to the next\n",
    "\n",
    "• Ends at null\n",
    "\n",
    "### 2. Doubly Linked List\n",
    "• Each node points to both next and prev\n",
    "\n",
    "• Enables bi-directional traversal\n",
    "\n",
    "### 3. Circular Linked List\n",
    "• Last node connects back to the head"
   ]
  },
  {
   "cell_type": "code",
   "execution_count": 1,
   "id": "e46f547e",
   "metadata": {},
   "outputs": [],
   "source": [
    "class ListNode:\n",
    "    def __init__(self, val=0, next=None):\n",
    "        self.val = val\n",
    "        self.next = next\n"
   ]
  },
  {
   "cell_type": "code",
   "execution_count": null,
   "id": "70868903",
   "metadata": {},
   "outputs": [],
   "source": [
    "#Iterative\n",
    "def reverseLinkedList(head):\n",
    "    prev = None\n",
    "    while head:\n",
    "        node = head\n",
    "        head = head.next\n",
    "        node.next = prev\n",
    "        prev = node\n",
    "    return prev\n",
    "\n",
    "#recursive\n",
    "def reversalLinkedListRecursive(head):\n",
    "    if not head or not head.next:\n",
    "        return head\n",
    "    new_head = reversalLinkedListRecursive(head.next)\n",
    "    head.next.next = head\n",
    "    head.next = None\n",
    "    return new_head"
   ]
  },
  {
   "cell_type": "code",
   "execution_count": 4,
   "id": "44d1500c",
   "metadata": {},
   "outputs": [],
   "source": [
    "def merge_two_lists(l1, l2):\n",
    "    dummy = ListNode()\n",
    "    tail = dummy\n",
    "\n",
    "    while l1 and l2:\n",
    "        if l1.val < l2.val:\n",
    "            tail.next = l1\n",
    "            l1 = l1.next\n",
    "        else:\n",
    "            tail.next = l2\n",
    "            l2 = l2.next\n",
    "        tail = tail.next\n",
    "\n",
    "    tail.next = l1 or l2\n",
    "    return dummy.next\n"
   ]
  },
  {
   "cell_type": "code",
   "execution_count": 5,
   "id": "a4879fa0",
   "metadata": {},
   "outputs": [],
   "source": [
    "def add_two_numbers(l1, l2):\n",
    "    dummy = ListNode()\n",
    "    curr = dummy\n",
    "    carry = 0\n",
    "\n",
    "    while l1 or l2 or carry:\n",
    "        v1 = l1.val if l1 else 0\n",
    "        v2 = l2.val if l2 else 0\n",
    "        total = v1 + v2 + carry\n",
    "        carry = total // 10\n",
    "        curr.next = ListNode(total % 10)\n",
    "        curr = curr.next\n",
    "\n",
    "        if l1: l1 = l1.next\n",
    "        if l2: l2 = l2.next\n",
    "\n",
    "    return dummy.next\n"
   ]
  },
  {
   "cell_type": "code",
   "execution_count": null,
   "id": "0a0042e4",
   "metadata": {},
   "outputs": [],
   "source": []
  }
 ],
 "metadata": {
  "kernelspec": {
   "display_name": "Python 3",
   "language": "python",
   "name": "python3"
  },
  "language_info": {
   "codemirror_mode": {
    "name": "ipython",
    "version": 3
   },
   "file_extension": ".py",
   "mimetype": "text/x-python",
   "name": "python",
   "nbconvert_exporter": "python",
   "pygments_lexer": "ipython3",
   "version": "3.12.1"
  }
 },
 "nbformat": 4,
 "nbformat_minor": 5
}
