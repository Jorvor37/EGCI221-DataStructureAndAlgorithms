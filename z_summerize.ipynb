{
 "cells": [
  {
   "cell_type": "markdown",
   "id": "37a02524",
   "metadata": {},
   "source": [
    "# Recursion \n",
    "\n",
    "### 🔹 What is Recursion?\n",
    "\n",
    "Recursion is when a method calls itself to solve a smaller version of the problem.\n",
    "\n",
    "Key Components:\n",
    "\n",
    "Base Case: When to stop recursion.\n",
    "\n",
    "Recursive Case: Calls itself with modified input.\n",
    "\n",
    "### ⚠️ Common Pitfalls:\n",
    "\n",
    "Missing base case → infinite recursion\n",
    "\n",
    "Not reducing the problem size"
   ]
  },
  {
   "cell_type": "code",
   "execution_count": null,
   "id": "c7d5ae96",
   "metadata": {},
   "outputs": [],
   "source": [
    "int factorial(int n):\n",
    "    if n==0:    #base case\n",
    "        return 1\n",
    "    else        #recursive case\n",
    "        return n * factorial(n-1)\n",
    "    \n",
    "int factorial(int n):\n",
    "    if n >= 0:\n",
    "        if n == 0 || n == 1:\n",
    "            return 1\n",
    "        else:\n",
    "            return factorial(n-1) + factorial(n-2)\n",
    "    else:\n",
    "        print(\"negative number cannot be factorial\")"
   ]
  }
 ],
 "metadata": {
  "language_info": {
   "name": "python"
  }
 },
 "nbformat": 4,
 "nbformat_minor": 5
}
